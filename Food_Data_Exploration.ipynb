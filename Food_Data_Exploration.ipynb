{
 "cells": [
  {
   "cell_type": "code",
   "execution_count": 0,
   "metadata": {
    "application/vnd.databricks.v1+cell": {
     "cellMetadata": {
      "byteLimit": 2048000,
      "rowLimit": 10000
     },
     "inputWidgets": {},
     "nuid": "018521e5-ffce-4d9c-ae6c-70b7caeea0e9",
     "showTitle": false,
     "tableResultSettingsMap": {},
     "title": ""
    }
   },
   "outputs": [],
   "source": [
    "%%python\n",
    "from pyspark.sql import functions as F\n",
    "from pyspark.sql.functions import col, sum\n",
    "from pyspark.sql.functions import round"
   ]
  },
  {
   "cell_type": "code",
   "execution_count": 0,
   "metadata": {
    "application/vnd.databricks.v1+cell": {
     "cellMetadata": {
      "byteLimit": 2048000,
      "rowLimit": 10000
     },
     "inputWidgets": {},
     "nuid": "d186d219-e1fc-4a4a-aba9-cd01b2287332",
     "showTitle": false,
     "tableResultSettingsMap": {},
     "title": ""
    }
   },
   "outputs": [
    {
     "name": "stdout",
     "output_type": "stream",
     "text": [
      "/mnt/nutritiondata has been unmounted.\n",
      "Out[2]: True"
     ]
    }
   ],
   "source": [
    "# check if the directory is already mounted to avoid remounting it\n",
    "mount_point = \"/mnt/nutritiondata\"\n",
    "if any(mount.mountPoint == mount_point for mount in dbutils.fs.mounts()):\n",
    "    # If it’s already mounted, we unmount it before mounting again\n",
    "    dbutils.fs.unmount(mount_point)\n",
    "\n",
    "\n",
    "# Set up the necessary configurations for authentication\n",
    "configs = {\"fs.azure.account.auth.type\": \"OAuth\",\n",
    "\"fs.azure.account.oauth.provider.type\": \"org.apache.hadoop.fs.azurebfs.oauth2.ClientCredsTokenProvider\",\n",
    "\"fs.azure.account.oauth2.client.id\": \"Client ID\",\n",
    "\"fs.azure.account.oauth2.client.secret\": 'Secret Key',\n",
    "\"fs.azure.account.oauth2.client.endpoint\": \"tenat ID\"}\n",
    "\n",
    "# Mount the directory\n",
    "dbutils.fs.mount(\n",
    "    source=\"abfss://nutrition-data@foodnutritionstorage.dfs.core.windows.net\",\n",
    "    mount_point=mount_point,\n",
    "    extra_configs=configs\n",
    ")"
   ]
  },
  {
   "cell_type": "code",
   "execution_count": 0,
   "metadata": {
    "application/vnd.databricks.v1+cell": {
     "cellMetadata": {
      "byteLimit": 2048000,
      "rowLimit": 10000
     },
     "inputWidgets": {},
     "nuid": "912e5c74-b825-4dcf-9566-6be99aa25f84",
     "showTitle": false,
     "tableResultSettingsMap": {},
     "title": ""
    }
   },
   "outputs": [
    {
     "data": {
      "text/html": [
       "<style scoped>\n",
       "  .table-result-container {\n",
       "    max-height: 300px;\n",
       "    overflow: auto;\n",
       "  }\n",
       "  table, th, td {\n",
       "    border: 1px solid black;\n",
       "    border-collapse: collapse;\n",
       "  }\n",
       "  th, td {\n",
       "    padding: 5px;\n",
       "  }\n",
       "  th {\n",
       "    text-align: left;\n",
       "  }\n",
       "</style><div class='table-result-container'><table class='table-result'><thead style='background-color: white'><tr><th>path</th><th>name</th><th>size</th><th>modificationTime</th></tr></thead><tbody><tr><td>dbfs:/mnt/nutritiondata/raw-data/</td><td>raw-data/</td><td>0</td><td>1740974869000</td></tr><tr><td>dbfs:/mnt/nutritiondata/transformed-data/</td><td>transformed-data/</td><td>0</td><td>1740974893000</td></tr></tbody></table></div>"
      ]
     },
     "metadata": {
      "application/vnd.databricks.v1+output": {
       "addedWidgets": {},
       "aggData": [],
       "aggError": "",
       "aggOverflow": false,
       "aggSchema": [],
       "aggSeriesLimitReached": false,
       "aggType": "",
       "arguments": {},
       "columnCustomDisplayInfos": {},
       "data": [
        [
         "dbfs:/mnt/nutritiondata/raw-data/",
         "raw-data/",
         0,
         1740974869000
        ],
        [
         "dbfs:/mnt/nutritiondata/transformed-data/",
         "transformed-data/",
         0,
         1740974893000
        ]
       ],
       "datasetInfos": [],
       "dbfsResultPath": null,
       "isJsonSchema": true,
       "metadata": {
        "isDbfsCommandResult": false
       },
       "overflow": false,
       "plotOptions": {
        "customPlotOptions": {},
        "displayType": "table",
        "pivotAggregation": null,
        "pivotColumns": null,
        "xColumns": null,
        "yColumns": null
       },
       "removedWidgets": [],
       "schema": [
        {
         "metadata": "{}",
         "name": "path",
         "type": "\"string\""
        },
        {
         "metadata": "{}",
         "name": "name",
         "type": "\"string\""
        },
        {
         "metadata": "{}",
         "name": "size",
         "type": "\"long\""
        },
        {
         "metadata": "{}",
         "name": "modificationTime",
         "type": "\"long\""
        }
       ],
       "type": "table"
      }
     },
     "output_type": "display_data"
    }
   ],
   "source": [
    "# List the contents of the mounted directory to check if the files are accessible\n",
    "\n",
    "%fs\n",
    "ls \"mnt/nutritiondata\""
   ]
  },
  {
   "cell_type": "code",
   "execution_count": 0,
   "metadata": {
    "application/vnd.databricks.v1+cell": {
     "cellMetadata": {
      "byteLimit": 2048000,
      "rowLimit": 10000
     },
     "inputWidgets": {},
     "nuid": "4cc9c6d2-328d-4460-9210-f8dc9d20ae2b",
     "showTitle": false,
     "tableResultSettingsMap": {},
     "title": ""
    }
   },
   "outputs": [
    {
     "data": {
      "text/html": [
       "<style scoped>\n",
       "  .table-result-container {\n",
       "    max-height: 300px;\n",
       "    overflow: auto;\n",
       "  }\n",
       "  table, th, td {\n",
       "    border: 1px solid black;\n",
       "    border-collapse: collapse;\n",
       "  }\n",
       "  th, td {\n",
       "    padding: 5px;\n",
       "  }\n",
       "  th {\n",
       "    text-align: left;\n",
       "  }\n",
       "</style><div class='table-result-container'><table class='table-result'><thead style='background-color: white'><tr><th>path</th><th>name</th><th>size</th><th>modificationTime</th></tr></thead><tbody><tr><td>dbfs:/mnt/nutritiondata/raw-data/</td><td>raw-data/</td><td>0</td><td>1740974869000</td></tr><tr><td>dbfs:/mnt/nutritiondata/transformed-data/</td><td>transformed-data/</td><td>0</td><td>1740974893000</td></tr></tbody></table></div>"
      ]
     },
     "metadata": {
      "application/vnd.databricks.v1+output": {
       "addedWidgets": {},
       "aggData": [],
       "aggError": "",
       "aggOverflow": false,
       "aggSchema": [],
       "aggSeriesLimitReached": false,
       "aggType": "",
       "arguments": {},
       "columnCustomDisplayInfos": {},
       "data": [
        [
         "dbfs:/mnt/nutritiondata/raw-data/",
         "raw-data/",
         0,
         1740974869000
        ],
        [
         "dbfs:/mnt/nutritiondata/transformed-data/",
         "transformed-data/",
         0,
         1740974893000
        ]
       ],
       "datasetInfos": [],
       "dbfsResultPath": null,
       "isJsonSchema": true,
       "metadata": {},
       "overflow": false,
       "plotOptions": {
        "customPlotOptions": {},
        "displayType": "table",
        "pivotAggregation": null,
        "pivotColumns": null,
        "xColumns": null,
        "yColumns": null
       },
       "removedWidgets": [],
       "schema": [
        {
         "metadata": "{}",
         "name": "path",
         "type": "\"string\""
        },
        {
         "metadata": "{}",
         "name": "name",
         "type": "\"string\""
        },
        {
         "metadata": "{}",
         "name": "size",
         "type": "\"long\""
        },
        {
         "metadata": "{}",
         "name": "modificationTime",
         "type": "\"long\""
        }
       ],
       "type": "table"
      }
     },
     "output_type": "display_data"
    }
   ],
   "source": [
    "# Display the list of files in the mounted directory to verify the available data\n",
    "display(dbutils.fs.ls(\"/mnt/nutritiondata\"))"
   ]
  },
  {
   "cell_type": "code",
   "execution_count": 0,
   "metadata": {
    "application/vnd.databricks.v1+cell": {
     "cellMetadata": {
      "byteLimit": 2048000,
      "rowLimit": 10000
     },
     "inputWidgets": {},
     "nuid": "d4be748a-d00a-4184-9256-fa829b807afd",
     "showTitle": false,
     "tableResultSettingsMap": {},
     "title": ""
    }
   },
   "outputs": [
    {
     "data": {
      "text/html": [
       "<style scoped>\n",
       "  .table-result-container {\n",
       "    max-height: 300px;\n",
       "    overflow: auto;\n",
       "  }\n",
       "  table, th, td {\n",
       "    border: 1px solid black;\n",
       "    border-collapse: collapse;\n",
       "  }\n",
       "  th, td {\n",
       "    padding: 5px;\n",
       "  }\n",
       "  th {\n",
       "    text-align: left;\n",
       "  }\n",
       "</style><div class='table-result-container'><table class='table-result'><thead style='background-color: white'><tr><th>path</th><th>name</th><th>size</th><th>modificationTime</th></tr></thead><tbody><tr><td>dbfs:/mnt/nutritiondata/raw-data/FOOD_DATA_GROUP1.csv</td><td>FOOD_DATA_GROUP1.csv</td><td>97240</td><td>1740985951000</td></tr><tr><td>dbfs:/mnt/nutritiondata/raw-data/FOOD_DATA_GROUP3.csv</td><td>FOOD_DATA_GROUP3.csv</td><td>97803</td><td>1740985950000</td></tr><tr><td>dbfs:/mnt/nutritiondata/raw-data/FOOD_DATA_GROUP4.csv</td><td>FOOD_DATA_GROUP4.csv</td><td>38705</td><td>1740985950000</td></tr><tr><td>dbfs:/mnt/nutritiondata/raw-data/FOOD_DATA_GROUP5.csv</td><td>FOOD_DATA_GROUP5.csv</td><td>121112</td><td>1740985953000</td></tr><tr><td>dbfs:/mnt/nutritiondata/raw-data/FOOD_GROUP_DATA2.csv</td><td>FOOD_GROUP_DATA2.csv</td><td>51706</td><td>1740985950000</td></tr></tbody></table></div>"
      ]
     },
     "metadata": {
      "application/vnd.databricks.v1+output": {
       "addedWidgets": {},
       "aggData": [],
       "aggError": "",
       "aggOverflow": false,
       "aggSchema": [],
       "aggSeriesLimitReached": false,
       "aggType": "",
       "arguments": {},
       "columnCustomDisplayInfos": {},
       "data": [
        [
         "dbfs:/mnt/nutritiondata/raw-data/FOOD_DATA_GROUP1.csv",
         "FOOD_DATA_GROUP1.csv",
         97240,
         1740985951000
        ],
        [
         "dbfs:/mnt/nutritiondata/raw-data/FOOD_DATA_GROUP3.csv",
         "FOOD_DATA_GROUP3.csv",
         97803,
         1740985950000
        ],
        [
         "dbfs:/mnt/nutritiondata/raw-data/FOOD_DATA_GROUP4.csv",
         "FOOD_DATA_GROUP4.csv",
         38705,
         1740985950000
        ],
        [
         "dbfs:/mnt/nutritiondata/raw-data/FOOD_DATA_GROUP5.csv",
         "FOOD_DATA_GROUP5.csv",
         121112,
         1740985953000
        ],
        [
         "dbfs:/mnt/nutritiondata/raw-data/FOOD_GROUP_DATA2.csv",
         "FOOD_GROUP_DATA2.csv",
         51706,
         1740985950000
        ]
       ],
       "datasetInfos": [],
       "dbfsResultPath": null,
       "isJsonSchema": true,
       "metadata": {},
       "overflow": false,
       "plotOptions": {
        "customPlotOptions": {},
        "displayType": "table",
        "pivotAggregation": null,
        "pivotColumns": null,
        "xColumns": null,
        "yColumns": null
       },
       "removedWidgets": [],
       "schema": [
        {
         "metadata": "{}",
         "name": "path",
         "type": "\"string\""
        },
        {
         "metadata": "{}",
         "name": "name",
         "type": "\"string\""
        },
        {
         "metadata": "{}",
         "name": "size",
         "type": "\"long\""
        },
        {
         "metadata": "{}",
         "name": "modificationTime",
         "type": "\"long\""
        }
       ],
       "type": "table"
      }
     },
     "output_type": "display_data"
    }
   ],
   "source": [
    "# Display the list of raw data files in the specified folder to review the available datasets\n",
    "display(dbutils.fs.ls(\"/mnt/nutritiondata/raw-data/\"))\n"
   ]
  },
  {
   "cell_type": "code",
   "execution_count": 0,
   "metadata": {
    "application/vnd.databricks.v1+cell": {
     "cellMetadata": {
      "byteLimit": 2048000,
      "rowLimit": 10000
     },
     "inputWidgets": {},
     "nuid": "563846c4-3da2-4e74-9a14-a9c27366cfd1",
     "showTitle": false,
     "tableResultSettingsMap": {},
     "title": ""
    }
   },
   "outputs": [],
   "source": [
    "#Load all the five datasets\n",
    "group1 = spark.read.format(\"csv\").option(\"header\",\"true\").option(\"inferSchema\",\"true\").load(\"/mnt/nutritiondata/raw-data/FOOD_DATA_GROUP1.csv\")\n",
    "group2 = spark.read.format(\"csv\").option(\"header\",\"true\").option(\"inferSchema\",\"true\").load(\"/mnt/nutritiondata/raw-data/FOOD_GROUP_DATA2.csv\")\n",
    "group3 = spark.read.format(\"csv\").option(\"header\",\"true\").option(\"inferSchema\",\"true\").load(\"/mnt/nutritiondata/raw-data/FOOD_DATA_GROUP3.csv\")\n",
    "group4 = spark.read.format(\"csv\").option(\"header\",\"true\").option(\"inferSchema\",\"true\").load(\"/mnt/nutritiondata/raw-data/FOOD_DATA_GROUP4.csv\")\n",
    "group5 = spark.read.format(\"csv\").option(\"header\",\"true\").option(\"inferSchema\",\"true\").load(\"/mnt/nutritiondata/raw-data/FOOD_DATA_GROUP5.csv\")\n",
    "     "
   ]
  },
  {
   "cell_type": "code",
   "execution_count": 0,
   "metadata": {
    "application/vnd.databricks.v1+cell": {
     "cellMetadata": {
      "byteLimit": 2048000,
      "rowLimit": 10000
     },
     "inputWidgets": {},
     "nuid": "1748b48f-2614-4bab-85be-0db6bf0af014",
     "showTitle": false,
     "tableResultSettingsMap": {},
     "title": ""
    }
   },
   "outputs": [
    {
     "name": "stdout",
     "output_type": "stream",
     "text": [
      "root\n",
      " |-- _c0: integer (nullable = true)\n",
      " |-- Unnamed: 0: integer (nullable = true)\n",
      " |-- food: string (nullable = true)\n",
      " |-- Caloric Value: integer (nullable = true)\n",
      " |-- Fat: double (nullable = true)\n",
      " |-- Saturated Fats: double (nullable = true)\n",
      " |-- Monounsaturated Fats: double (nullable = true)\n",
      " |-- Polyunsaturated Fats: double (nullable = true)\n",
      " |-- Carbohydrates: double (nullable = true)\n",
      " |-- Sugars: double (nullable = true)\n",
      " |-- Protein: double (nullable = true)\n",
      " |-- Dietary Fiber: double (nullable = true)\n",
      " |-- Cholesterol: double (nullable = true)\n",
      " |-- Sodium: double (nullable = true)\n",
      " |-- Water: double (nullable = true)\n",
      " |-- Vitamin A: double (nullable = true)\n",
      " |-- Vitamin B1: double (nullable = true)\n",
      " |-- Vitamin B11: double (nullable = true)\n",
      " |-- Vitamin B12: double (nullable = true)\n",
      " |-- Vitamin B2: double (nullable = true)\n",
      " |-- Vitamin B3: double (nullable = true)\n",
      " |-- Vitamin B5: double (nullable = true)\n",
      " |-- Vitamin B6: double (nullable = true)\n",
      " |-- Vitamin C: double (nullable = true)\n",
      " |-- Vitamin D: double (nullable = true)\n",
      " |-- Vitamin E: double (nullable = true)\n",
      " |-- Vitamin K: double (nullable = true)\n",
      " |-- Calcium: double (nullable = true)\n",
      " |-- Copper: double (nullable = true)\n",
      " |-- Iron: double (nullable = true)\n",
      " |-- Magnesium: double (nullable = true)\n",
      " |-- Manganese: double (nullable = true)\n",
      " |-- Phosphorus: double (nullable = true)\n",
      " |-- Potassium: double (nullable = true)\n",
      " |-- Selenium: double (nullable = true)\n",
      " |-- Zinc: double (nullable = true)\n",
      " |-- Nutrition Density: double (nullable = true)\n",
      "\n",
      "root\n",
      " |-- _c0: integer (nullable = true)\n",
      " |-- Unnamed: 0: integer (nullable = true)\n",
      " |-- food: string (nullable = true)\n",
      " |-- Caloric Value: integer (nullable = true)\n",
      " |-- Fat: double (nullable = true)\n",
      " |-- Saturated Fats: double (nullable = true)\n",
      " |-- Monounsaturated Fats: double (nullable = true)\n",
      " |-- Polyunsaturated Fats: double (nullable = true)\n",
      " |-- Carbohydrates: double (nullable = true)\n",
      " |-- Sugars: double (nullable = true)\n",
      " |-- Protein: double (nullable = true)\n",
      " |-- Dietary Fiber: double (nullable = true)\n",
      " |-- Cholesterol: double (nullable = true)\n",
      " |-- Sodium: double (nullable = true)\n",
      " |-- Water: double (nullable = true)\n",
      " |-- Vitamin A: double (nullable = true)\n",
      " |-- Vitamin B1: double (nullable = true)\n",
      " |-- Vitamin B11: double (nullable = true)\n",
      " |-- Vitamin B12: double (nullable = true)\n",
      " |-- Vitamin B2: double (nullable = true)\n",
      " |-- Vitamin B3: double (nullable = true)\n",
      " |-- Vitamin B5: double (nullable = true)\n",
      " |-- Vitamin B6: double (nullable = true)\n",
      " |-- Vitamin C: double (nullable = true)\n",
      " |-- Vitamin D: double (nullable = true)\n",
      " |-- Vitamin E: double (nullable = true)\n",
      " |-- Vitamin K: double (nullable = true)\n",
      " |-- Calcium: double (nullable = true)\n",
      " |-- Copper: double (nullable = true)\n",
      " |-- Iron: double (nullable = true)\n",
      " |-- Magnesium: double (nullable = true)\n",
      " |-- Manganese: double (nullable = true)\n",
      " |-- Phosphorus: double (nullable = true)\n",
      " |-- Potassium: double (nullable = true)\n",
      " |-- Selenium: double (nullable = true)\n",
      " |-- Zinc: double (nullable = true)\n",
      " |-- Nutrition Density: double (nullable = true)\n",
      "\n",
      "root\n",
      " |-- _c0: integer (nullable = true)\n",
      " |-- Unnamed: 0: integer (nullable = true)\n",
      " |-- food: string (nullable = true)\n",
      " |-- Caloric Value: integer (nullable = true)\n",
      " |-- Fat: double (nullable = true)\n",
      " |-- Saturated Fats: double (nullable = true)\n",
      " |-- Monounsaturated Fats: double (nullable = true)\n",
      " |-- Polyunsaturated Fats: double (nullable = true)\n",
      " |-- Carbohydrates: double (nullable = true)\n",
      " |-- Sugars: double (nullable = true)\n",
      " |-- Protein: double (nullable = true)\n",
      " |-- Dietary Fiber: double (nullable = true)\n",
      " |-- Cholesterol: double (nullable = true)\n",
      " |-- Sodium: double (nullable = true)\n",
      " |-- Water: double (nullable = true)\n",
      " |-- Vitamin A: double (nullable = true)\n",
      " |-- Vitamin B1: double (nullable = true)\n",
      " |-- Vitamin B11: double (nullable = true)\n",
      " |-- Vitamin B12: double (nullable = true)\n",
      " |-- Vitamin B2: double (nullable = true)\n",
      " |-- Vitamin B3: double (nullable = true)\n",
      " |-- Vitamin B5: double (nullable = true)\n",
      " |-- Vitamin B6: double (nullable = true)\n",
      " |-- Vitamin C: double (nullable = true)\n",
      " |-- Vitamin D: double (nullable = true)\n",
      " |-- Vitamin E: double (nullable = true)\n",
      " |-- Vitamin K: double (nullable = true)\n",
      " |-- Calcium: double (nullable = true)\n",
      " |-- Copper: double (nullable = true)\n",
      " |-- Iron: double (nullable = true)\n",
      " |-- Magnesium: double (nullable = true)\n",
      " |-- Manganese: double (nullable = true)\n",
      " |-- Phosphorus: double (nullable = true)\n",
      " |-- Potassium: double (nullable = true)\n",
      " |-- Selenium: double (nullable = true)\n",
      " |-- Zinc: double (nullable = true)\n",
      " |-- Nutrition Density: double (nullable = true)\n",
      "\n",
      "root\n",
      " |-- _c0: integer (nullable = true)\n",
      " |-- Unnamed: 0: integer (nullable = true)\n",
      " |-- food: string (nullable = true)\n",
      " |-- Caloric Value: integer (nullable = true)\n",
      " |-- Fat: double (nullable = true)\n",
      " |-- Saturated Fats: double (nullable = true)\n",
      " |-- Monounsaturated Fats: double (nullable = true)\n",
      " |-- Polyunsaturated Fats: double (nullable = true)\n",
      " |-- Carbohydrates: double (nullable = true)\n",
      " |-- Sugars: double (nullable = true)\n",
      " |-- Protein: double (nullable = true)\n",
      " |-- Dietary Fiber: double (nullable = true)\n",
      " |-- Cholesterol: double (nullable = true)\n",
      " |-- Sodium: double (nullable = true)\n",
      " |-- Water: double (nullable = true)\n",
      " |-- Vitamin A: double (nullable = true)\n",
      " |-- Vitamin B1: double (nullable = true)\n",
      " |-- Vitamin B11: double (nullable = true)\n",
      " |-- Vitamin B12: double (nullable = true)\n",
      " |-- Vitamin B2: double (nullable = true)\n",
      " |-- Vitamin B3: double (nullable = true)\n",
      " |-- Vitamin B5: double (nullable = true)\n",
      " |-- Vitamin B6: double (nullable = true)\n",
      " |-- Vitamin C: double (nullable = true)\n",
      " |-- Vitamin D: double (nullable = true)\n",
      " |-- Vitamin E: double (nullable = true)\n",
      " |-- Vitamin K: double (nullable = true)\n",
      " |-- Calcium: double (nullable = true)\n",
      " |-- Copper: double (nullable = true)\n",
      " |-- Iron: double (nullable = true)\n",
      " |-- Magnesium: double (nullable = true)\n",
      " |-- Manganese: double (nullable = true)\n",
      " |-- Phosphorus: double (nullable = true)\n",
      " |-- Potassium: double (nullable = true)\n",
      " |-- Selenium: double (nullable = true)\n",
      " |-- Zinc: double (nullable = true)\n",
      " |-- Nutrition Density: double (nullable = true)\n",
      "\n",
      "root\n",
      " |-- _c0: integer (nullable = true)\n",
      " |-- Unnamed: 0: integer (nullable = true)\n",
      " |-- food: string (nullable = true)\n",
      " |-- Caloric Value: integer (nullable = true)\n",
      " |-- Fat: double (nullable = true)\n",
      " |-- Saturated Fats: double (nullable = true)\n",
      " |-- Monounsaturated Fats: double (nullable = true)\n",
      " |-- Polyunsaturated Fats: double (nullable = true)\n",
      " |-- Carbohydrates: double (nullable = true)\n",
      " |-- Sugars: double (nullable = true)\n",
      " |-- Protein: double (nullable = true)\n",
      " |-- Dietary Fiber: double (nullable = true)\n",
      " |-- Cholesterol: double (nullable = true)\n",
      " |-- Sodium: double (nullable = true)\n",
      " |-- Water: double (nullable = true)\n",
      " |-- Vitamin A: double (nullable = true)\n",
      " |-- Vitamin B1: double (nullable = true)\n",
      " |-- Vitamin B11: double (nullable = true)\n",
      " |-- Vitamin B12: double (nullable = true)\n",
      " |-- Vitamin B2: double (nullable = true)\n",
      " |-- Vitamin B3: double (nullable = true)\n",
      " |-- Vitamin B5: double (nullable = true)\n",
      " |-- Vitamin B6: double (nullable = true)\n",
      " |-- Vitamin C: double (nullable = true)\n",
      " |-- Vitamin D: double (nullable = true)\n",
      " |-- Vitamin E: double (nullable = true)\n",
      " |-- Vitamin K: double (nullable = true)\n",
      " |-- Calcium: double (nullable = true)\n",
      " |-- Copper: double (nullable = true)\n",
      " |-- Iron: double (nullable = true)\n",
      " |-- Magnesium: double (nullable = true)\n",
      " |-- Manganese: double (nullable = true)\n",
      " |-- Phosphorus: double (nullable = true)\n",
      " |-- Potassium: double (nullable = true)\n",
      " |-- Selenium: double (nullable = true)\n",
      " |-- Zinc: double (nullable = true)\n",
      " |-- Nutrition Density: double (nullable = true)\n",
      "\n"
     ]
    }
   ],
   "source": [
    "# Check the schema of each group\n",
    "group1.printSchema()\n",
    "group2.printSchema()\n",
    "group3.printSchema()\n",
    "group4.printSchema()\n",
    "group5.printSchema()"
   ]
  },
  {
   "cell_type": "code",
   "execution_count": 0,
   "metadata": {
    "application/vnd.databricks.v1+cell": {
     "cellMetadata": {
      "byteLimit": 2048000,
      "rowLimit": 10000
     },
     "inputWidgets": {},
     "nuid": "b3c522f8-ad0b-4ef1-afbe-a32015e7692e",
     "showTitle": false,
     "tableResultSettingsMap": {},
     "title": ""
    }
   },
   "outputs": [
    {
     "name": "stdout",
     "output_type": "stream",
     "text": [
      "All schemas match. Safe to merge!\n"
     ]
    }
   ],
   "source": [
    "#verify whether all datasets have identical schemas\n",
    "\n",
    "schema_list = [group1.schema, group2.schema, group3.schema, group4.schema, group5.schema]\n",
    "if all(schema == schema_list[0] for schema in schema_list):\n",
    "    print(\"All schemas match. Safe to merge!\")\n",
    "else:\n",
    "    print(\"Schemas do NOT match!\")\n"
   ]
  },
  {
   "cell_type": "code",
   "execution_count": 0,
   "metadata": {
    "application/vnd.databricks.v1+cell": {
     "cellMetadata": {
      "byteLimit": 2048000,
      "rowLimit": 10000
     },
     "inputWidgets": {},
     "nuid": "11c0b053-8af5-4e4e-9559-cb54b11e87b9",
     "showTitle": false,
     "tableResultSettingsMap": {},
     "title": ""
    }
   },
   "outputs": [],
   "source": [
    "# Remove unnecessary columns (_c0 and Unnamed: 0). These columns don't contain useful information for analysis\n",
    "group1 = group1.drop(\"_c0\", \"Unnamed: 0\")\n",
    "group2 = group2.drop(\"_c0\", \"Unnamed: 0\")\n",
    "group3 = group3.drop(\"_c0\", \"Unnamed: 0\")\n",
    "group4 = group4.drop(\"_c0\", \"Unnamed: 0\")\n",
    "group5 = group5.drop(\"_c0\", \"Unnamed: 0\")\n"
   ]
  },
  {
   "cell_type": "code",
   "execution_count": 0,
   "metadata": {
    "application/vnd.databricks.v1+cell": {
     "cellMetadata": {
      "byteLimit": 2048000,
      "rowLimit": 10000
     },
     "inputWidgets": {},
     "nuid": "0fdb46be-2766-4bf6-8da9-b3333001349a",
     "showTitle": false,
     "tableResultSettingsMap": {},
     "title": ""
    }
   },
   "outputs": [
    {
     "name": "stdout",
     "output_type": "stream",
     "text": [
      "root\n",
      " |-- food: string (nullable = true)\n",
      " |-- Caloric Value: integer (nullable = true)\n",
      " |-- Fat: double (nullable = true)\n",
      " |-- Saturated Fats: double (nullable = true)\n",
      " |-- Monounsaturated Fats: double (nullable = true)\n",
      " |-- Polyunsaturated Fats: double (nullable = true)\n",
      " |-- Carbohydrates: double (nullable = true)\n",
      " |-- Sugars: double (nullable = true)\n",
      " |-- Protein: double (nullable = true)\n",
      " |-- Dietary Fiber: double (nullable = true)\n",
      " |-- Cholesterol: double (nullable = true)\n",
      " |-- Sodium: double (nullable = true)\n",
      " |-- Water: double (nullable = true)\n",
      " |-- Vitamin A: double (nullable = true)\n",
      " |-- Vitamin B1: double (nullable = true)\n",
      " |-- Vitamin B11: double (nullable = true)\n",
      " |-- Vitamin B12: double (nullable = true)\n",
      " |-- Vitamin B2: double (nullable = true)\n",
      " |-- Vitamin B3: double (nullable = true)\n",
      " |-- Vitamin B5: double (nullable = true)\n",
      " |-- Vitamin B6: double (nullable = true)\n",
      " |-- Vitamin C: double (nullable = true)\n",
      " |-- Vitamin D: double (nullable = true)\n",
      " |-- Vitamin E: double (nullable = true)\n",
      " |-- Vitamin K: double (nullable = true)\n",
      " |-- Calcium: double (nullable = true)\n",
      " |-- Copper: double (nullable = true)\n",
      " |-- Iron: double (nullable = true)\n",
      " |-- Magnesium: double (nullable = true)\n",
      " |-- Manganese: double (nullable = true)\n",
      " |-- Phosphorus: double (nullable = true)\n",
      " |-- Potassium: double (nullable = true)\n",
      " |-- Selenium: double (nullable = true)\n",
      " |-- Zinc: double (nullable = true)\n",
      " |-- Nutrition Density: double (nullable = true)\n",
      "\n"
     ]
    }
   ],
   "source": [
    "# Print the schema of 'group1' to verify that the unnecessary columns have been successfully removed\n",
    "group1.printSchema()\n"
   ]
  },
  {
   "cell_type": "code",
   "execution_count": 0,
   "metadata": {
    "application/vnd.databricks.v1+cell": {
     "cellMetadata": {
      "byteLimit": 2048000,
      "rowLimit": 10000
     },
     "inputWidgets": {},
     "nuid": "0ae2f457-852b-4c97-a9cc-a5d39a56ad08",
     "showTitle": false,
     "tableResultSettingsMap": {},
     "title": ""
    }
   },
   "outputs": [
    {
     "name": "stdout",
     "output_type": "stream",
     "text": [
      "['food', 'Caloric Value', 'Fat', 'Saturated Fats', 'Monounsaturated Fats', 'Polyunsaturated Fats', 'Carbohydrates', 'Sugars', 'Protein', 'Dietary Fiber', 'Cholesterol', 'Sodium', 'Water', 'Vitamin A', 'Vitamin B1', 'Vitamin B11', 'Vitamin B12', 'Vitamin B2', 'Vitamin B3', 'Vitamin B5', 'Vitamin B6', 'Vitamin C', 'Vitamin D', 'Vitamin E', 'Vitamin K', 'Calcium', 'Copper', 'Iron', 'Magnesium', 'Manganese', 'Phosphorus', 'Potassium', 'Selenium', 'Zinc', 'Nutrition Density']\n"
     ]
    }
   ],
   "source": [
    "print(group1.columns)"
   ]
  },
  {
   "cell_type": "code",
   "execution_count": 0,
   "metadata": {
    "application/vnd.databricks.v1+cell": {
     "cellMetadata": {
      "byteLimit": 2048000,
      "rowLimit": 10000
     },
     "inputWidgets": {},
     "nuid": "22bf2d8a-527f-4456-afe2-f770887483ba",
     "showTitle": false,
     "tableResultSettingsMap": {},
     "title": ""
    }
   },
   "outputs": [
    {
     "name": "stdout",
     "output_type": "stream",
     "text": [
      "+--------------------------------+-------------+----+--------------+\n",
      "|food                            |Caloric Value|Fat |Saturated Fats|\n",
      "+--------------------------------+-------------+----+--------------+\n",
      "|cream cheese                    |51           |5.0 |2.9           |\n",
      "|neufchatel cheese               |215          |19.4|10.9          |\n",
      "|requeijao cremoso light catupiry|49           |3.6 |2.3           |\n",
      "|ricotta cheese                  |30           |2.0 |1.3           |\n",
      "|cream cheese low fat            |30           |2.3 |1.4           |\n",
      "|cream cheese fat free           |19           |0.2 |0.1           |\n",
      "|gruyere cheese                  |116          |9.1 |5.3           |\n",
      "|cheddar cheese                  |113          |9.3 |5.3           |\n",
      "|parmesan cheese                 |71           |4.5 |2.7           |\n",
      "|romano cheese                   |19           |1.3 |0.9           |\n",
      "|parmesan cheese grated          |21           |1.4 |0.8           |\n",
      "|port salut cheese               |465          |37.2|22.0          |\n",
      "|swiss cheese                    |98           |7.7 |4.6           |\n",
      "|goat cheese hard                |128          |10.1|7.0           |\n",
      "|gouda cheese                    |100          |7.7 |4.9           |\n",
      "|pepper jack cheese lucerne      |75           |6.0 |4.0           |\n",
      "|caraway cheese                  |106          |8.3 |5.3           |\n",
      "|gjetost cheese                  |1058         |67.0|43.5          |\n",
      "|tilsit cheese                   |136          |10.4|6.7           |\n",
      "|goat cheese                     |103          |8.4 |5.8           |\n",
      "+--------------------------------+-------------+----+--------------+\n",
      "only showing top 20 rows\n",
      "\n"
     ]
    }
   ],
   "source": [
    "# Show the first few rows of each DataFrame\n",
    "group1.select(\"food\", \"Caloric Value\", \"Fat\", \"Saturated Fats\").show(20, truncate=False)\n",
    "\n"
   ]
  },
  {
   "cell_type": "code",
   "execution_count": 0,
   "metadata": {
    "application/vnd.databricks.v1+cell": {
     "cellMetadata": {
      "byteLimit": 2048000,
      "rowLimit": 10000
     },
     "inputWidgets": {},
     "nuid": "424b408e-9c22-4b8a-b805-9c69d14731e3",
     "showTitle": false,
     "tableResultSettingsMap": {},
     "title": ""
    }
   },
   "outputs": [
    {
     "name": "stdout",
     "output_type": "stream",
     "text": [
      "Missing values in group1:\n"
     ]
    },
    {
     "data": {
      "text/html": [
       "<style scoped>\n",
       "  .table-result-container {\n",
       "    max-height: 300px;\n",
       "    overflow: auto;\n",
       "  }\n",
       "  table, th, td {\n",
       "    border: 1px solid black;\n",
       "    border-collapse: collapse;\n",
       "  }\n",
       "  th, td {\n",
       "    padding: 5px;\n",
       "  }\n",
       "  th {\n",
       "    text-align: left;\n",
       "  }\n",
       "</style><div class='table-result-container'><table class='table-result'><thead style='background-color: white'><tr><th>food</th><th>Caloric Value</th><th>Fat</th><th>Saturated Fats</th><th>Monounsaturated Fats</th><th>Polyunsaturated Fats</th><th>Carbohydrates</th><th>Sugars</th><th>Protein</th><th>Dietary Fiber</th><th>Cholesterol</th><th>Sodium</th><th>Water</th><th>Vitamin A</th><th>Vitamin B1</th><th>Vitamin B11</th><th>Vitamin B12</th><th>Vitamin B2</th><th>Vitamin B3</th><th>Vitamin B5</th><th>Vitamin B6</th><th>Vitamin C</th><th>Vitamin D</th><th>Vitamin E</th><th>Vitamin K</th><th>Calcium</th><th>Copper</th><th>Iron</th><th>Magnesium</th><th>Manganese</th><th>Phosphorus</th><th>Potassium</th><th>Selenium</th><th>Zinc</th><th>Nutrition Density</th></tr></thead><tbody><tr><td>0</td><td>0</td><td>0</td><td>0</td><td>0</td><td>0</td><td>0</td><td>0</td><td>0</td><td>0</td><td>0</td><td>0</td><td>0</td><td>0</td><td>0</td><td>0</td><td>0</td><td>0</td><td>0</td><td>0</td><td>0</td><td>0</td><td>0</td><td>0</td><td>0</td><td>0</td><td>0</td><td>0</td><td>0</td><td>0</td><td>0</td><td>0</td><td>0</td><td>0</td><td>0</td></tr></tbody></table></div>"
      ]
     },
     "metadata": {
      "application/vnd.databricks.v1+output": {
       "addedWidgets": {},
       "aggData": [],
       "aggError": "",
       "aggOverflow": false,
       "aggSchema": [],
       "aggSeriesLimitReached": false,
       "aggType": "",
       "arguments": {},
       "columnCustomDisplayInfos": {},
       "data": [
        [
         0,
         0,
         0,
         0,
         0,
         0,
         0,
         0,
         0,
         0,
         0,
         0,
         0,
         0,
         0,
         0,
         0,
         0,
         0,
         0,
         0,
         0,
         0,
         0,
         0,
         0,
         0,
         0,
         0,
         0,
         0,
         0,
         0,
         0,
         0
        ]
       ],
       "datasetInfos": [],
       "dbfsResultPath": null,
       "isJsonSchema": true,
       "metadata": {},
       "overflow": false,
       "plotOptions": {
        "customPlotOptions": {},
        "displayType": "table",
        "pivotAggregation": null,
        "pivotColumns": null,
        "xColumns": null,
        "yColumns": null
       },
       "removedWidgets": [],
       "schema": [
        {
         "metadata": "{}",
         "name": "food",
         "type": "\"long\""
        },
        {
         "metadata": "{}",
         "name": "Caloric Value",
         "type": "\"long\""
        },
        {
         "metadata": "{}",
         "name": "Fat",
         "type": "\"long\""
        },
        {
         "metadata": "{}",
         "name": "Saturated Fats",
         "type": "\"long\""
        },
        {
         "metadata": "{}",
         "name": "Monounsaturated Fats",
         "type": "\"long\""
        },
        {
         "metadata": "{}",
         "name": "Polyunsaturated Fats",
         "type": "\"long\""
        },
        {
         "metadata": "{}",
         "name": "Carbohydrates",
         "type": "\"long\""
        },
        {
         "metadata": "{}",
         "name": "Sugars",
         "type": "\"long\""
        },
        {
         "metadata": "{}",
         "name": "Protein",
         "type": "\"long\""
        },
        {
         "metadata": "{}",
         "name": "Dietary Fiber",
         "type": "\"long\""
        },
        {
         "metadata": "{}",
         "name": "Cholesterol",
         "type": "\"long\""
        },
        {
         "metadata": "{}",
         "name": "Sodium",
         "type": "\"long\""
        },
        {
         "metadata": "{}",
         "name": "Water",
         "type": "\"long\""
        },
        {
         "metadata": "{}",
         "name": "Vitamin A",
         "type": "\"long\""
        },
        {
         "metadata": "{}",
         "name": "Vitamin B1",
         "type": "\"long\""
        },
        {
         "metadata": "{}",
         "name": "Vitamin B11",
         "type": "\"long\""
        },
        {
         "metadata": "{}",
         "name": "Vitamin B12",
         "type": "\"long\""
        },
        {
         "metadata": "{}",
         "name": "Vitamin B2",
         "type": "\"long\""
        },
        {
         "metadata": "{}",
         "name": "Vitamin B3",
         "type": "\"long\""
        },
        {
         "metadata": "{}",
         "name": "Vitamin B5",
         "type": "\"long\""
        },
        {
         "metadata": "{}",
         "name": "Vitamin B6",
         "type": "\"long\""
        },
        {
         "metadata": "{}",
         "name": "Vitamin C",
         "type": "\"long\""
        },
        {
         "metadata": "{}",
         "name": "Vitamin D",
         "type": "\"long\""
        },
        {
         "metadata": "{}",
         "name": "Vitamin E",
         "type": "\"long\""
        },
        {
         "metadata": "{}",
         "name": "Vitamin K",
         "type": "\"long\""
        },
        {
         "metadata": "{}",
         "name": "Calcium",
         "type": "\"long\""
        },
        {
         "metadata": "{}",
         "name": "Copper",
         "type": "\"long\""
        },
        {
         "metadata": "{}",
         "name": "Iron",
         "type": "\"long\""
        },
        {
         "metadata": "{}",
         "name": "Magnesium",
         "type": "\"long\""
        },
        {
         "metadata": "{}",
         "name": "Manganese",
         "type": "\"long\""
        },
        {
         "metadata": "{}",
         "name": "Phosphorus",
         "type": "\"long\""
        },
        {
         "metadata": "{}",
         "name": "Potassium",
         "type": "\"long\""
        },
        {
         "metadata": "{}",
         "name": "Selenium",
         "type": "\"long\""
        },
        {
         "metadata": "{}",
         "name": "Zinc",
         "type": "\"long\""
        },
        {
         "metadata": "{}",
         "name": "Nutrition Density",
         "type": "\"long\""
        }
       ],
       "type": "table"
      }
     },
     "output_type": "display_data"
    },
    {
     "name": "stdout",
     "output_type": "stream",
     "text": [
      "Missing values in group2:\n"
     ]
    },
    {
     "data": {
      "text/html": [
       "<style scoped>\n",
       "  .table-result-container {\n",
       "    max-height: 300px;\n",
       "    overflow: auto;\n",
       "  }\n",
       "  table, th, td {\n",
       "    border: 1px solid black;\n",
       "    border-collapse: collapse;\n",
       "  }\n",
       "  th, td {\n",
       "    padding: 5px;\n",
       "  }\n",
       "  th {\n",
       "    text-align: left;\n",
       "  }\n",
       "</style><div class='table-result-container'><table class='table-result'><thead style='background-color: white'><tr><th>_c0</th><th>Unnamed: 0</th><th>food</th><th>Caloric Value</th><th>Fat</th><th>Saturated Fats</th><th>Monounsaturated Fats</th><th>Polyunsaturated Fats</th><th>Carbohydrates</th><th>Sugars</th><th>Protein</th><th>Dietary Fiber</th><th>Cholesterol</th><th>Sodium</th><th>Water</th><th>Vitamin A</th><th>Vitamin B1</th><th>Vitamin B11</th><th>Vitamin B12</th><th>Vitamin B2</th><th>Vitamin B3</th><th>Vitamin B5</th><th>Vitamin B6</th><th>Vitamin C</th><th>Vitamin D</th><th>Vitamin E</th><th>Vitamin K</th><th>Calcium</th><th>Copper</th><th>Iron</th><th>Magnesium</th><th>Manganese</th><th>Phosphorus</th><th>Potassium</th><th>Selenium</th><th>Zinc</th><th>Nutrition Density</th></tr></thead><tbody><tr><td>0</td><td>0</td><td>0</td><td>0</td><td>0</td><td>0</td><td>0</td><td>0</td><td>0</td><td>0</td><td>0</td><td>0</td><td>0</td><td>0</td><td>0</td><td>0</td><td>0</td><td>0</td><td>0</td><td>0</td><td>0</td><td>0</td><td>0</td><td>0</td><td>0</td><td>0</td><td>0</td><td>0</td><td>0</td><td>0</td><td>0</td><td>0</td><td>0</td><td>0</td><td>0</td><td>0</td><td>0</td></tr></tbody></table></div>"
      ]
     },
     "metadata": {
      "application/vnd.databricks.v1+output": {
       "addedWidgets": {},
       "aggData": [],
       "aggError": "",
       "aggOverflow": false,
       "aggSchema": [],
       "aggSeriesLimitReached": false,
       "aggType": "",
       "arguments": {},
       "columnCustomDisplayInfos": {},
       "data": [
        [
         0,
         0,
         0,
         0,
         0,
         0,
         0,
         0,
         0,
         0,
         0,
         0,
         0,
         0,
         0,
         0,
         0,
         0,
         0,
         0,
         0,
         0,
         0,
         0,
         0,
         0,
         0,
         0,
         0,
         0,
         0,
         0,
         0,
         0,
         0,
         0,
         0
        ]
       ],
       "datasetInfos": [],
       "dbfsResultPath": null,
       "isJsonSchema": true,
       "metadata": {},
       "overflow": false,
       "plotOptions": {
        "customPlotOptions": {},
        "displayType": "table",
        "pivotAggregation": null,
        "pivotColumns": null,
        "xColumns": null,
        "yColumns": null
       },
       "removedWidgets": [],
       "schema": [
        {
         "metadata": "{}",
         "name": "_c0",
         "type": "\"long\""
        },
        {
         "metadata": "{}",
         "name": "Unnamed: 0",
         "type": "\"long\""
        },
        {
         "metadata": "{}",
         "name": "food",
         "type": "\"long\""
        },
        {
         "metadata": "{}",
         "name": "Caloric Value",
         "type": "\"long\""
        },
        {
         "metadata": "{}",
         "name": "Fat",
         "type": "\"long\""
        },
        {
         "metadata": "{}",
         "name": "Saturated Fats",
         "type": "\"long\""
        },
        {
         "metadata": "{}",
         "name": "Monounsaturated Fats",
         "type": "\"long\""
        },
        {
         "metadata": "{}",
         "name": "Polyunsaturated Fats",
         "type": "\"long\""
        },
        {
         "metadata": "{}",
         "name": "Carbohydrates",
         "type": "\"long\""
        },
        {
         "metadata": "{}",
         "name": "Sugars",
         "type": "\"long\""
        },
        {
         "metadata": "{}",
         "name": "Protein",
         "type": "\"long\""
        },
        {
         "metadata": "{}",
         "name": "Dietary Fiber",
         "type": "\"long\""
        },
        {
         "metadata": "{}",
         "name": "Cholesterol",
         "type": "\"long\""
        },
        {
         "metadata": "{}",
         "name": "Sodium",
         "type": "\"long\""
        },
        {
         "metadata": "{}",
         "name": "Water",
         "type": "\"long\""
        },
        {
         "metadata": "{}",
         "name": "Vitamin A",
         "type": "\"long\""
        },
        {
         "metadata": "{}",
         "name": "Vitamin B1",
         "type": "\"long\""
        },
        {
         "metadata": "{}",
         "name": "Vitamin B11",
         "type": "\"long\""
        },
        {
         "metadata": "{}",
         "name": "Vitamin B12",
         "type": "\"long\""
        },
        {
         "metadata": "{}",
         "name": "Vitamin B2",
         "type": "\"long\""
        },
        {
         "metadata": "{}",
         "name": "Vitamin B3",
         "type": "\"long\""
        },
        {
         "metadata": "{}",
         "name": "Vitamin B5",
         "type": "\"long\""
        },
        {
         "metadata": "{}",
         "name": "Vitamin B6",
         "type": "\"long\""
        },
        {
         "metadata": "{}",
         "name": "Vitamin C",
         "type": "\"long\""
        },
        {
         "metadata": "{}",
         "name": "Vitamin D",
         "type": "\"long\""
        },
        {
         "metadata": "{}",
         "name": "Vitamin E",
         "type": "\"long\""
        },
        {
         "metadata": "{}",
         "name": "Vitamin K",
         "type": "\"long\""
        },
        {
         "metadata": "{}",
         "name": "Calcium",
         "type": "\"long\""
        },
        {
         "metadata": "{}",
         "name": "Copper",
         "type": "\"long\""
        },
        {
         "metadata": "{}",
         "name": "Iron",
         "type": "\"long\""
        },
        {
         "metadata": "{}",
         "name": "Magnesium",
         "type": "\"long\""
        },
        {
         "metadata": "{}",
         "name": "Manganese",
         "type": "\"long\""
        },
        {
         "metadata": "{}",
         "name": "Phosphorus",
         "type": "\"long\""
        },
        {
         "metadata": "{}",
         "name": "Potassium",
         "type": "\"long\""
        },
        {
         "metadata": "{}",
         "name": "Selenium",
         "type": "\"long\""
        },
        {
         "metadata": "{}",
         "name": "Zinc",
         "type": "\"long\""
        },
        {
         "metadata": "{}",
         "name": "Nutrition Density",
         "type": "\"long\""
        }
       ],
       "type": "table"
      }
     },
     "output_type": "display_data"
    },
    {
     "name": "stdout",
     "output_type": "stream",
     "text": [
      "Missing values in group3:\n"
     ]
    },
    {
     "data": {
      "text/html": [
       "<style scoped>\n",
       "  .table-result-container {\n",
       "    max-height: 300px;\n",
       "    overflow: auto;\n",
       "  }\n",
       "  table, th, td {\n",
       "    border: 1px solid black;\n",
       "    border-collapse: collapse;\n",
       "  }\n",
       "  th, td {\n",
       "    padding: 5px;\n",
       "  }\n",
       "  th {\n",
       "    text-align: left;\n",
       "  }\n",
       "</style><div class='table-result-container'><table class='table-result'><thead style='background-color: white'><tr><th>_c0</th><th>Unnamed: 0</th><th>food</th><th>Caloric Value</th><th>Fat</th><th>Saturated Fats</th><th>Monounsaturated Fats</th><th>Polyunsaturated Fats</th><th>Carbohydrates</th><th>Sugars</th><th>Protein</th><th>Dietary Fiber</th><th>Cholesterol</th><th>Sodium</th><th>Water</th><th>Vitamin A</th><th>Vitamin B1</th><th>Vitamin B11</th><th>Vitamin B12</th><th>Vitamin B2</th><th>Vitamin B3</th><th>Vitamin B5</th><th>Vitamin B6</th><th>Vitamin C</th><th>Vitamin D</th><th>Vitamin E</th><th>Vitamin K</th><th>Calcium</th><th>Copper</th><th>Iron</th><th>Magnesium</th><th>Manganese</th><th>Phosphorus</th><th>Potassium</th><th>Selenium</th><th>Zinc</th><th>Nutrition Density</th></tr></thead><tbody><tr><td>0</td><td>0</td><td>0</td><td>0</td><td>0</td><td>0</td><td>0</td><td>0</td><td>0</td><td>0</td><td>0</td><td>0</td><td>0</td><td>0</td><td>0</td><td>0</td><td>0</td><td>0</td><td>0</td><td>0</td><td>0</td><td>0</td><td>0</td><td>0</td><td>0</td><td>0</td><td>0</td><td>0</td><td>0</td><td>0</td><td>0</td><td>0</td><td>0</td><td>0</td><td>0</td><td>0</td><td>0</td></tr></tbody></table></div>"
      ]
     },
     "metadata": {
      "application/vnd.databricks.v1+output": {
       "addedWidgets": {},
       "aggData": [],
       "aggError": "",
       "aggOverflow": false,
       "aggSchema": [],
       "aggSeriesLimitReached": false,
       "aggType": "",
       "arguments": {},
       "columnCustomDisplayInfos": {},
       "data": [
        [
         0,
         0,
         0,
         0,
         0,
         0,
         0,
         0,
         0,
         0,
         0,
         0,
         0,
         0,
         0,
         0,
         0,
         0,
         0,
         0,
         0,
         0,
         0,
         0,
         0,
         0,
         0,
         0,
         0,
         0,
         0,
         0,
         0,
         0,
         0,
         0,
         0
        ]
       ],
       "datasetInfos": [],
       "dbfsResultPath": null,
       "isJsonSchema": true,
       "metadata": {},
       "overflow": false,
       "plotOptions": {
        "customPlotOptions": {},
        "displayType": "table",
        "pivotAggregation": null,
        "pivotColumns": null,
        "xColumns": null,
        "yColumns": null
       },
       "removedWidgets": [],
       "schema": [
        {
         "metadata": "{}",
         "name": "_c0",
         "type": "\"long\""
        },
        {
         "metadata": "{}",
         "name": "Unnamed: 0",
         "type": "\"long\""
        },
        {
         "metadata": "{}",
         "name": "food",
         "type": "\"long\""
        },
        {
         "metadata": "{}",
         "name": "Caloric Value",
         "type": "\"long\""
        },
        {
         "metadata": "{}",
         "name": "Fat",
         "type": "\"long\""
        },
        {
         "metadata": "{}",
         "name": "Saturated Fats",
         "type": "\"long\""
        },
        {
         "metadata": "{}",
         "name": "Monounsaturated Fats",
         "type": "\"long\""
        },
        {
         "metadata": "{}",
         "name": "Polyunsaturated Fats",
         "type": "\"long\""
        },
        {
         "metadata": "{}",
         "name": "Carbohydrates",
         "type": "\"long\""
        },
        {
         "metadata": "{}",
         "name": "Sugars",
         "type": "\"long\""
        },
        {
         "metadata": "{}",
         "name": "Protein",
         "type": "\"long\""
        },
        {
         "metadata": "{}",
         "name": "Dietary Fiber",
         "type": "\"long\""
        },
        {
         "metadata": "{}",
         "name": "Cholesterol",
         "type": "\"long\""
        },
        {
         "metadata": "{}",
         "name": "Sodium",
         "type": "\"long\""
        },
        {
         "metadata": "{}",
         "name": "Water",
         "type": "\"long\""
        },
        {
         "metadata": "{}",
         "name": "Vitamin A",
         "type": "\"long\""
        },
        {
         "metadata": "{}",
         "name": "Vitamin B1",
         "type": "\"long\""
        },
        {
         "metadata": "{}",
         "name": "Vitamin B11",
         "type": "\"long\""
        },
        {
         "metadata": "{}",
         "name": "Vitamin B12",
         "type": "\"long\""
        },
        {
         "metadata": "{}",
         "name": "Vitamin B2",
         "type": "\"long\""
        },
        {
         "metadata": "{}",
         "name": "Vitamin B3",
         "type": "\"long\""
        },
        {
         "metadata": "{}",
         "name": "Vitamin B5",
         "type": "\"long\""
        },
        {
         "metadata": "{}",
         "name": "Vitamin B6",
         "type": "\"long\""
        },
        {
         "metadata": "{}",
         "name": "Vitamin C",
         "type": "\"long\""
        },
        {
         "metadata": "{}",
         "name": "Vitamin D",
         "type": "\"long\""
        },
        {
         "metadata": "{}",
         "name": "Vitamin E",
         "type": "\"long\""
        },
        {
         "metadata": "{}",
         "name": "Vitamin K",
         "type": "\"long\""
        },
        {
         "metadata": "{}",
         "name": "Calcium",
         "type": "\"long\""
        },
        {
         "metadata": "{}",
         "name": "Copper",
         "type": "\"long\""
        },
        {
         "metadata": "{}",
         "name": "Iron",
         "type": "\"long\""
        },
        {
         "metadata": "{}",
         "name": "Magnesium",
         "type": "\"long\""
        },
        {
         "metadata": "{}",
         "name": "Manganese",
         "type": "\"long\""
        },
        {
         "metadata": "{}",
         "name": "Phosphorus",
         "type": "\"long\""
        },
        {
         "metadata": "{}",
         "name": "Potassium",
         "type": "\"long\""
        },
        {
         "metadata": "{}",
         "name": "Selenium",
         "type": "\"long\""
        },
        {
         "metadata": "{}",
         "name": "Zinc",
         "type": "\"long\""
        },
        {
         "metadata": "{}",
         "name": "Nutrition Density",
         "type": "\"long\""
        }
       ],
       "type": "table"
      }
     },
     "output_type": "display_data"
    },
    {
     "name": "stdout",
     "output_type": "stream",
     "text": [
      "Missing values in group4:\n"
     ]
    },
    {
     "data": {
      "text/html": [
       "<style scoped>\n",
       "  .table-result-container {\n",
       "    max-height: 300px;\n",
       "    overflow: auto;\n",
       "  }\n",
       "  table, th, td {\n",
       "    border: 1px solid black;\n",
       "    border-collapse: collapse;\n",
       "  }\n",
       "  th, td {\n",
       "    padding: 5px;\n",
       "  }\n",
       "  th {\n",
       "    text-align: left;\n",
       "  }\n",
       "</style><div class='table-result-container'><table class='table-result'><thead style='background-color: white'><tr><th>_c0</th><th>Unnamed: 0</th><th>food</th><th>Caloric Value</th><th>Fat</th><th>Saturated Fats</th><th>Monounsaturated Fats</th><th>Polyunsaturated Fats</th><th>Carbohydrates</th><th>Sugars</th><th>Protein</th><th>Dietary Fiber</th><th>Cholesterol</th><th>Sodium</th><th>Water</th><th>Vitamin A</th><th>Vitamin B1</th><th>Vitamin B11</th><th>Vitamin B12</th><th>Vitamin B2</th><th>Vitamin B3</th><th>Vitamin B5</th><th>Vitamin B6</th><th>Vitamin C</th><th>Vitamin D</th><th>Vitamin E</th><th>Vitamin K</th><th>Calcium</th><th>Copper</th><th>Iron</th><th>Magnesium</th><th>Manganese</th><th>Phosphorus</th><th>Potassium</th><th>Selenium</th><th>Zinc</th><th>Nutrition Density</th></tr></thead><tbody><tr><td>0</td><td>0</td><td>0</td><td>0</td><td>0</td><td>0</td><td>0</td><td>0</td><td>0</td><td>0</td><td>0</td><td>0</td><td>0</td><td>0</td><td>0</td><td>0</td><td>0</td><td>0</td><td>0</td><td>0</td><td>0</td><td>0</td><td>0</td><td>0</td><td>0</td><td>0</td><td>0</td><td>0</td><td>0</td><td>0</td><td>0</td><td>0</td><td>0</td><td>0</td><td>0</td><td>0</td><td>0</td></tr></tbody></table></div>"
      ]
     },
     "metadata": {
      "application/vnd.databricks.v1+output": {
       "addedWidgets": {},
       "aggData": [],
       "aggError": "",
       "aggOverflow": false,
       "aggSchema": [],
       "aggSeriesLimitReached": false,
       "aggType": "",
       "arguments": {},
       "columnCustomDisplayInfos": {},
       "data": [
        [
         0,
         0,
         0,
         0,
         0,
         0,
         0,
         0,
         0,
         0,
         0,
         0,
         0,
         0,
         0,
         0,
         0,
         0,
         0,
         0,
         0,
         0,
         0,
         0,
         0,
         0,
         0,
         0,
         0,
         0,
         0,
         0,
         0,
         0,
         0,
         0,
         0
        ]
       ],
       "datasetInfos": [],
       "dbfsResultPath": null,
       "isJsonSchema": true,
       "metadata": {},
       "overflow": false,
       "plotOptions": {
        "customPlotOptions": {},
        "displayType": "table",
        "pivotAggregation": null,
        "pivotColumns": null,
        "xColumns": null,
        "yColumns": null
       },
       "removedWidgets": [],
       "schema": [
        {
         "metadata": "{}",
         "name": "_c0",
         "type": "\"long\""
        },
        {
         "metadata": "{}",
         "name": "Unnamed: 0",
         "type": "\"long\""
        },
        {
         "metadata": "{}",
         "name": "food",
         "type": "\"long\""
        },
        {
         "metadata": "{}",
         "name": "Caloric Value",
         "type": "\"long\""
        },
        {
         "metadata": "{}",
         "name": "Fat",
         "type": "\"long\""
        },
        {
         "metadata": "{}",
         "name": "Saturated Fats",
         "type": "\"long\""
        },
        {
         "metadata": "{}",
         "name": "Monounsaturated Fats",
         "type": "\"long\""
        },
        {
         "metadata": "{}",
         "name": "Polyunsaturated Fats",
         "type": "\"long\""
        },
        {
         "metadata": "{}",
         "name": "Carbohydrates",
         "type": "\"long\""
        },
        {
         "metadata": "{}",
         "name": "Sugars",
         "type": "\"long\""
        },
        {
         "metadata": "{}",
         "name": "Protein",
         "type": "\"long\""
        },
        {
         "metadata": "{}",
         "name": "Dietary Fiber",
         "type": "\"long\""
        },
        {
         "metadata": "{}",
         "name": "Cholesterol",
         "type": "\"long\""
        },
        {
         "metadata": "{}",
         "name": "Sodium",
         "type": "\"long\""
        },
        {
         "metadata": "{}",
         "name": "Water",
         "type": "\"long\""
        },
        {
         "metadata": "{}",
         "name": "Vitamin A",
         "type": "\"long\""
        },
        {
         "metadata": "{}",
         "name": "Vitamin B1",
         "type": "\"long\""
        },
        {
         "metadata": "{}",
         "name": "Vitamin B11",
         "type": "\"long\""
        },
        {
         "metadata": "{}",
         "name": "Vitamin B12",
         "type": "\"long\""
        },
        {
         "metadata": "{}",
         "name": "Vitamin B2",
         "type": "\"long\""
        },
        {
         "metadata": "{}",
         "name": "Vitamin B3",
         "type": "\"long\""
        },
        {
         "metadata": "{}",
         "name": "Vitamin B5",
         "type": "\"long\""
        },
        {
         "metadata": "{}",
         "name": "Vitamin B6",
         "type": "\"long\""
        },
        {
         "metadata": "{}",
         "name": "Vitamin C",
         "type": "\"long\""
        },
        {
         "metadata": "{}",
         "name": "Vitamin D",
         "type": "\"long\""
        },
        {
         "metadata": "{}",
         "name": "Vitamin E",
         "type": "\"long\""
        },
        {
         "metadata": "{}",
         "name": "Vitamin K",
         "type": "\"long\""
        },
        {
         "metadata": "{}",
         "name": "Calcium",
         "type": "\"long\""
        },
        {
         "metadata": "{}",
         "name": "Copper",
         "type": "\"long\""
        },
        {
         "metadata": "{}",
         "name": "Iron",
         "type": "\"long\""
        },
        {
         "metadata": "{}",
         "name": "Magnesium",
         "type": "\"long\""
        },
        {
         "metadata": "{}",
         "name": "Manganese",
         "type": "\"long\""
        },
        {
         "metadata": "{}",
         "name": "Phosphorus",
         "type": "\"long\""
        },
        {
         "metadata": "{}",
         "name": "Potassium",
         "type": "\"long\""
        },
        {
         "metadata": "{}",
         "name": "Selenium",
         "type": "\"long\""
        },
        {
         "metadata": "{}",
         "name": "Zinc",
         "type": "\"long\""
        },
        {
         "metadata": "{}",
         "name": "Nutrition Density",
         "type": "\"long\""
        }
       ],
       "type": "table"
      }
     },
     "output_type": "display_data"
    },
    {
     "name": "stdout",
     "output_type": "stream",
     "text": [
      "Missing values in group5:\n"
     ]
    },
    {
     "data": {
      "text/html": [
       "<style scoped>\n",
       "  .table-result-container {\n",
       "    max-height: 300px;\n",
       "    overflow: auto;\n",
       "  }\n",
       "  table, th, td {\n",
       "    border: 1px solid black;\n",
       "    border-collapse: collapse;\n",
       "  }\n",
       "  th, td {\n",
       "    padding: 5px;\n",
       "  }\n",
       "  th {\n",
       "    text-align: left;\n",
       "  }\n",
       "</style><div class='table-result-container'><table class='table-result'><thead style='background-color: white'><tr><th>_c0</th><th>Unnamed: 0</th><th>food</th><th>Caloric Value</th><th>Fat</th><th>Saturated Fats</th><th>Monounsaturated Fats</th><th>Polyunsaturated Fats</th><th>Carbohydrates</th><th>Sugars</th><th>Protein</th><th>Dietary Fiber</th><th>Cholesterol</th><th>Sodium</th><th>Water</th><th>Vitamin A</th><th>Vitamin B1</th><th>Vitamin B11</th><th>Vitamin B12</th><th>Vitamin B2</th><th>Vitamin B3</th><th>Vitamin B5</th><th>Vitamin B6</th><th>Vitamin C</th><th>Vitamin D</th><th>Vitamin E</th><th>Vitamin K</th><th>Calcium</th><th>Copper</th><th>Iron</th><th>Magnesium</th><th>Manganese</th><th>Phosphorus</th><th>Potassium</th><th>Selenium</th><th>Zinc</th><th>Nutrition Density</th></tr></thead><tbody><tr><td>0</td><td>0</td><td>0</td><td>0</td><td>0</td><td>0</td><td>0</td><td>0</td><td>0</td><td>0</td><td>0</td><td>0</td><td>0</td><td>0</td><td>0</td><td>0</td><td>0</td><td>0</td><td>0</td><td>0</td><td>0</td><td>0</td><td>0</td><td>0</td><td>0</td><td>0</td><td>0</td><td>0</td><td>0</td><td>0</td><td>0</td><td>0</td><td>0</td><td>0</td><td>0</td><td>0</td><td>0</td></tr></tbody></table></div>"
      ]
     },
     "metadata": {
      "application/vnd.databricks.v1+output": {
       "addedWidgets": {},
       "aggData": [],
       "aggError": "",
       "aggOverflow": false,
       "aggSchema": [],
       "aggSeriesLimitReached": false,
       "aggType": "",
       "arguments": {},
       "columnCustomDisplayInfos": {},
       "data": [
        [
         0,
         0,
         0,
         0,
         0,
         0,
         0,
         0,
         0,
         0,
         0,
         0,
         0,
         0,
         0,
         0,
         0,
         0,
         0,
         0,
         0,
         0,
         0,
         0,
         0,
         0,
         0,
         0,
         0,
         0,
         0,
         0,
         0,
         0,
         0,
         0,
         0
        ]
       ],
       "datasetInfos": [],
       "dbfsResultPath": null,
       "isJsonSchema": true,
       "metadata": {},
       "overflow": false,
       "plotOptions": {
        "customPlotOptions": {},
        "displayType": "table",
        "pivotAggregation": null,
        "pivotColumns": null,
        "xColumns": null,
        "yColumns": null
       },
       "removedWidgets": [],
       "schema": [
        {
         "metadata": "{}",
         "name": "_c0",
         "type": "\"long\""
        },
        {
         "metadata": "{}",
         "name": "Unnamed: 0",
         "type": "\"long\""
        },
        {
         "metadata": "{}",
         "name": "food",
         "type": "\"long\""
        },
        {
         "metadata": "{}",
         "name": "Caloric Value",
         "type": "\"long\""
        },
        {
         "metadata": "{}",
         "name": "Fat",
         "type": "\"long\""
        },
        {
         "metadata": "{}",
         "name": "Saturated Fats",
         "type": "\"long\""
        },
        {
         "metadata": "{}",
         "name": "Monounsaturated Fats",
         "type": "\"long\""
        },
        {
         "metadata": "{}",
         "name": "Polyunsaturated Fats",
         "type": "\"long\""
        },
        {
         "metadata": "{}",
         "name": "Carbohydrates",
         "type": "\"long\""
        },
        {
         "metadata": "{}",
         "name": "Sugars",
         "type": "\"long\""
        },
        {
         "metadata": "{}",
         "name": "Protein",
         "type": "\"long\""
        },
        {
         "metadata": "{}",
         "name": "Dietary Fiber",
         "type": "\"long\""
        },
        {
         "metadata": "{}",
         "name": "Cholesterol",
         "type": "\"long\""
        },
        {
         "metadata": "{}",
         "name": "Sodium",
         "type": "\"long\""
        },
        {
         "metadata": "{}",
         "name": "Water",
         "type": "\"long\""
        },
        {
         "metadata": "{}",
         "name": "Vitamin A",
         "type": "\"long\""
        },
        {
         "metadata": "{}",
         "name": "Vitamin B1",
         "type": "\"long\""
        },
        {
         "metadata": "{}",
         "name": "Vitamin B11",
         "type": "\"long\""
        },
        {
         "metadata": "{}",
         "name": "Vitamin B12",
         "type": "\"long\""
        },
        {
         "metadata": "{}",
         "name": "Vitamin B2",
         "type": "\"long\""
        },
        {
         "metadata": "{}",
         "name": "Vitamin B3",
         "type": "\"long\""
        },
        {
         "metadata": "{}",
         "name": "Vitamin B5",
         "type": "\"long\""
        },
        {
         "metadata": "{}",
         "name": "Vitamin B6",
         "type": "\"long\""
        },
        {
         "metadata": "{}",
         "name": "Vitamin C",
         "type": "\"long\""
        },
        {
         "metadata": "{}",
         "name": "Vitamin D",
         "type": "\"long\""
        },
        {
         "metadata": "{}",
         "name": "Vitamin E",
         "type": "\"long\""
        },
        {
         "metadata": "{}",
         "name": "Vitamin K",
         "type": "\"long\""
        },
        {
         "metadata": "{}",
         "name": "Calcium",
         "type": "\"long\""
        },
        {
         "metadata": "{}",
         "name": "Copper",
         "type": "\"long\""
        },
        {
         "metadata": "{}",
         "name": "Iron",
         "type": "\"long\""
        },
        {
         "metadata": "{}",
         "name": "Magnesium",
         "type": "\"long\""
        },
        {
         "metadata": "{}",
         "name": "Manganese",
         "type": "\"long\""
        },
        {
         "metadata": "{}",
         "name": "Phosphorus",
         "type": "\"long\""
        },
        {
         "metadata": "{}",
         "name": "Potassium",
         "type": "\"long\""
        },
        {
         "metadata": "{}",
         "name": "Selenium",
         "type": "\"long\""
        },
        {
         "metadata": "{}",
         "name": "Zinc",
         "type": "\"long\""
        },
        {
         "metadata": "{}",
         "name": "Nutrition Density",
         "type": "\"long\""
        }
       ],
       "type": "table"
      }
     },
     "output_type": "display_data"
    }
   ],
   "source": [
    "\n",
    "# Function to count missing values in a DataFrame\n",
    "def count_missing_values(df):\n",
    "    return df.select([sum(col(c).isNull().cast(\"int\")).alias(c) for c in df.columns])\n",
    "\n",
    "# List of DataFrames\n",
    "groups = [group1, group2, group3, group4, group5]\n",
    "\n",
    "# Count missing values for each group and display the results\n",
    "for i, group in enumerate(groups, start=1):\n",
    "    missing_counts = count_missing_values(group)\n",
    "    print(f\"Missing values in group{i}:\")\n",
    "    display(missing_counts)"
   ]
  },
  {
   "cell_type": "code",
   "execution_count": 0,
   "metadata": {
    "application/vnd.databricks.v1+cell": {
     "cellMetadata": {
      "byteLimit": 2048000,
      "rowLimit": 10000
     },
     "inputWidgets": {},
     "nuid": "9161422d-8696-4b83-9bef-96bf15f3996d",
     "showTitle": false,
     "tableResultSettingsMap": {},
     "title": ""
    }
   },
   "outputs": [
    {
     "name": "stdout",
     "output_type": "stream",
     "text": [
      "+--------------------+-------------+----+--------------+--------------------+--------------------+-------------+------+-------+-------------+-----------+------+-----+---------+----------+-----------+-----------+----------+----------+----------+----------+---------+---------+---------+---------+-------+------+----+---------+---------+----------+---------+--------+-----+-----------------+\n",
      "|                food|Caloric Value| Fat|Saturated Fats|Monounsaturated Fats|Polyunsaturated Fats|Carbohydrates|Sugars|Protein|Dietary Fiber|Cholesterol|Sodium|Water|Vitamin A|Vitamin B1|Vitamin B11|Vitamin B12|Vitamin B2|Vitamin B3|Vitamin B5|Vitamin B6|Vitamin C|Vitamin D|Vitamin E|Vitamin K|Calcium|Copper|Iron|Magnesium|Manganese|Phosphorus|Potassium|Selenium| Zinc|Nutrition Density|\n",
      "+--------------------+-------------+----+--------------+--------------------+--------------------+-------------+------+-------+-------------+-----------+------+-----+---------+----------+-----------+-----------+----------+----------+----------+----------+---------+---------+---------+---------+-------+------+----+---------+---------+----------+---------+--------+-----+-----------------+\n",
      "|mozzarella cheese...|        159.0| 0.0|           0.0|                 0.0|                 0.0|          4.0|   1.7|   35.8|          2.0|       20.3|   0.8| 68.0|      0.1|     0.079|      0.011|      0.025|       0.3|       0.1|       0.0|     0.055|      0.0|      0.0|      0.2|    0.018| 1085.9| 0.077| 0.4|     37.3|      0.0|     741.3|    119.8|   0.035|  4.4|           1128.2|\n",
      "|      chicken spread|         88.0| 9.8|           1.8|                 2.7|                 1.3|          2.3|   0.3|   10.1|          0.2|       31.4|   0.4| 32.1|    0.076|      0.06|      0.048|      0.064|     0.003|       1.5|       0.2|     0.016|      0.0|      0.0|      0.0|      0.0|    9.0| 0.049| 0.5|      6.7|    0.083|      49.8|     59.4|   0.029|  0.6|           31.972|\n",
      "|       beef empanada|        298.0|16.3|           4.6|                 6.3|                 3.8|         27.8|   1.6|   10.1|          1.8|       23.1|   0.4| 33.4|      0.0|       0.2|        0.0|      0.094|       0.2|       4.2|       0.4|       0.1|      0.0|      0.0|      0.6|    0.072|   17.8| 0.051| 2.4|     18.7|      0.2|      91.7|    169.1|   0.037|  1.7|             76.2|\n",
      "|frijoles with cheese|        225.0| 7.8|           4.1|                 2.6|                 0.7|         28.7|   0.0|   11.4|          0.0|       36.7|   0.9|115.4|    0.008|       0.1|        0.1|      0.085|       0.3|       1.5|       1.1|       0.2|      1.5|      0.0|      0.0|      0.0|  188.7|   0.3| 2.2|     85.2|      0.5|     175.4|    604.5|   0.013|  1.7|          240.305|\n",
      "|    turkey and gravy|        161.0| 6.3|           2.0|                 2.3|                 1.1|         11.1|   0.0|   14.1|          0.0|       43.2|   1.3|204.2|    0.018|     0.067|      0.058|      0.099|       0.3|       4.3|       0.5|       0.2|      0.0|      0.0|      0.0|      0.0|   33.6| 0.035| 2.2|     19.2|    0.045|     194.4|    146.4|   0.003|  1.7|           67.374|\n",
      "|           crab cake|        160.0|10.4|           2.2|                 4.3|                 3.1|          5.1|   0.0|   11.3|          0.2|       82.2|   0.5| 32.0|    0.062|     0.039|       0.07|      0.019|     0.016|       1.2|       0.3|       0.1|      0.2|      0.0|      0.0|      0.0|  202.2|   0.4| 1.1|     25.2|      0.3|     226.8|    162.0|   0.029|  2.1|          230.596|\n",
      "|taco with chicken...|        185.0| 6.2|           2.5|                 1.6|                 1.6|         19.3|   1.3|   13.0|          1.2|       28.4|   0.6| 57.3|    0.014|       0.2|      0.029|      0.094|       0.1|       5.1|       0.0|       0.1|      0.2|    0.017|      0.2|    0.075|  119.6| 0.012| 1.6|     23.5|      0.2|     239.1|    212.7|   0.093|  0.7|          161.153|\n",
      "|     spinach souffle|        230.0|17.6|          10.1|                 5.0|                 1.0|          8.0|   2.5|   10.7|          1.0|      160.5|   0.8| 96.2|      0.2|       0.1|      0.025|      0.061|       0.4|       0.7|       0.6|       0.1|      9.9|    0.063|      1.3|      0.2|  224.4| 0.093| 1.6|     40.8|      0.4|     189.0|    314.2|    0.01|  1.2|            273.4|\n",
      "|     chili con carne|        271.0| 8.8|           3.2|                 3.6|                 1.0|         33.1|   4.7|   14.7|          8.3|       22.8|   1.1|191.5|      0.4|     0.095|      0.049|      0.005|     0.091|     0.029|       2.0|       3.6|      0.3|      0.5|      0.0|      1.3|  0.063|  83.5| 0.6|      3.4|     70.8|       0.4|    220.1|   667.9|0.039|           66.245|\n",
      "|       tamale navajo|        285.0|11.4|           4.5|                 5.1|                 1.3|         33.7|   1.8|   11.7|          5.8|       31.6|   0.8|126.7|      0.0|     0.057|      0.069|      0.032|       0.1|       3.0|       0.4|       0.3|      3.2|      0.0|      0.0|      0.0|   53.9|   0.1| 2.3|     40.9|      0.3|     184.1|    243.7|   0.053|  2.8|            122.0|\n",
      "|   pupusas del cerdo|        283.0|12.7|           3.9|                 4.8|                 2.7|         28.1|   1.8|   14.0|          3.2|       35.4|   0.5| 64.8|    0.064|       0.1|        0.0|      0.057|       0.1|       2.9|       0.8|       0.3|      0.0|      0.0|      0.4|    0.016|   59.8|  0.06| 1.2|     46.4|      0.2|     197.6|    311.1|   0.091|  2.0|          119.087|\n",
      "|         pork tamale|        247.0|12.8|           3.8|                 4.6|                 2.9|         22.4|   0.7|   10.4|          3.4|       28.4|   0.7| 93.8|    0.037|     0.045|        0.0|      0.045|      0.05|       1.8|       0.5|       0.2|      0.0|      0.0|      0.8|    0.033|  106.5| 0.043| 1.2|     36.9|      0.3|     170.4|    215.8|   0.048|  1.7|          156.766|\n",
      "|taco salad with c...|        193.0| 8.8|           4.0|                 3.0|                 1.0|         17.7|   0.0|   11.6|          0.0|        3.5|   0.6|133.6|      0.1|       0.1|      0.067|      0.063|       0.3|       1.7|       1.0|       0.3|      2.3|      0.0|      0.0|      0.0|  163.6|   0.2| 1.8|     34.8|      0.2|     102.7|    261.0|     0.0|  2.2|            205.9|\n",
      "|  vegetarian fillets|        247.0|15.3|           2.4|                 3.7|                 7.9|          7.7|   0.7|   19.6|          5.2|        0.0|   0.4| 38.3|      0.0|       0.9|      0.026|      0.014|       0.8|      10.2|       0.0|       1.3|      0.0|      0.0|      2.9|      0.0|   80.8|   0.8| 1.7|     19.6|      0.0|     382.5|    510.0|   0.043|  1.2|            130.3|\n",
      "|spaghetti with me...|        255.0| 2.9|           1.0|                 0.9|                 0.9|         43.1|   7.4|   14.3|          5.1|       17.0|   0.7|220.2|      0.0|       0.3|        0.1|      0.077|       3.8|       0.5|       0.2|       0.2|     15.3|      0.0|      1.4|    0.002|   50.9|   0.4| 3.5|     42.5|      0.6|     138.7|    407.5|   0.061|  1.4|            135.1|\n",
      "|pasta with meatba...|        273.0|13.0|           5.0|                 5.7|                 0.9|         28.3|   7.2|   10.6|          6.9|       23.0|   0.7|199.5|    0.052|       0.2|      0.089|      0.042|       0.3|       5.1|       0.5|       0.2|      7.7|    0.061|      2.0|    0.027|   30.6|   0.2| 3.3|     35.7|      0.6|     117.3|    359.6|   0.023|  1.5|          100.474|\n",
      "|pasta with sliced...|        227.0| 6.0|           2.5|                 2.5|                 1.0|         32.0|   8.0|   11.0|          4.0|       22.7|   0.7|197.1|    0.054|       0.2|        0.1|      0.031|       0.2|       2.9|       0.6|       0.2|      9.6|     0.07|      1.9|    0.072|  151.2|   0.3| 2.3|     35.3|      0.3|     108.4|    481.3|    0.02|  1.3|          216.154|\n",
      "|vegetable chicken...|        166.0| 4.8|           1.4|                 2.2|                 1.0|         21.1|   3.4|   12.3|          1.0|       16.9| 0.075|201.0|     0.05|     0.069|       0.09|      0.031|       0.2|       3.3|       0.0|     0.083|      5.5|      0.0|      0.7|    0.054|   26.5|   0.2| 1.5|      9.6|      0.0|     106.0|    368.7|   0.038|  2.2|           72.737|\n",
      "|       bean ham soup|        198.0| 2.5|           0.6|                 1.0|                 0.7|         33.5|   7.8|   10.3|          9.8|        4.9|   0.5|195.8|      0.0|       0.1|      0.099|        0.0|     0.068|       0.8|       0.3|       0.1|      2.7|      0.0|      1.0|    0.035|   93.1|   0.2| 2.5|     46.6|      0.6|      31.9|    387.1|   0.021|  1.3|            154.4|\n",
      "|        scotch broth|        197.0| 6.4|           2.7|                 1.9|                 1.3|         23.0|   0.0|   12.1|          3.0|       11.9|   2.1|249.7|      0.0|     0.059|      0.085|      0.031|       0.1|       2.8|       0.8|       0.2|      2.1|      0.0|      0.2|      0.0|   35.8|   0.6| 2.0|      8.9|      0.9|     134.1|    387.4|   0.026|  3.9|             84.4|\n",
      "+--------------------+-------------+----+--------------+--------------------+--------------------+-------------+------+-------+-------------+-----------+------+-----+---------+----------+-----------+-----------+----------+----------+----------+----------+---------+---------+---------+---------+-------+------+----+---------+---------+----------+---------+--------+-----+-----------------+\n",
      "only showing top 20 rows\n",
      "\n",
      "+----------------------------------------+-------------+----+\n",
      "|food                                    |Caloric Value|Fat |\n",
      "+----------------------------------------+-------------+----+\n",
      "|mozzarella cheese fat free              |159.0        |0.0 |\n",
      "|chicken spread                          |88.0         |9.8 |\n",
      "|beef empanada                           |298.0        |16.3|\n",
      "|frijoles with cheese                    |225.0        |7.8 |\n",
      "|turkey and gravy                        |161.0        |6.3 |\n",
      "|crab cake                               |160.0        |10.4|\n",
      "|taco with chicken cheese lettuce        |185.0        |6.2 |\n",
      "|spinach souffle                         |230.0        |17.6|\n",
      "|chili con carne                         |271.0        |8.8 |\n",
      "|tamale navajo                           |285.0        |11.4|\n",
      "|pupusas del cerdo                       |283.0        |12.7|\n",
      "|pork tamale                             |247.0        |12.8|\n",
      "|taco salad with chili con carne         |193.0        |8.8 |\n",
      "|vegetarian fillets                      |247.0        |15.3|\n",
      "|spaghetti with meat sauce               |255.0        |2.9 |\n",
      "|pasta with meatballs in tomato sauce    |273.0        |13.0|\n",
      "|pasta with sliced franks in tomato sauce|227.0        |6.0 |\n",
      "|vegetable chicken soup                  |166.0        |4.8 |\n",
      "|bean ham soup                           |198.0        |2.5 |\n",
      "|scotch broth                            |197.0        |6.4 |\n",
      "+----------------------------------------+-------------+----+\n",
      "only showing top 20 rows\n",
      "\n"
     ]
    }
   ],
   "source": [
    "\n",
    "# Function to clean data\n",
    "def clean_data(group):\n",
    "    # Drop rows with null values in key columns\n",
    "    group_clean = group.dropna(subset=['Caloric Value', 'Protein'])\n",
    "    \n",
    "    # Cast 'Caloric Value' and 'Protein' to numeric types\n",
    "    group_clean = group_clean.withColumn('Caloric Value', F.col('Caloric Value').cast('float')) \\\n",
    "                             .withColumn('Protein', F.col('Protein').cast('float'))\n",
    "    \n",
    "    return group_clean\n",
    "\n",
    "# Function to filter high-protein and low-calorie foods (both conditions)\n",
    "def filter_high_protein_and_low_calorie(group):\n",
    "    # Filter foods with Protein > 10 and Caloric Value < 300\n",
    "    high_protein_and_low_calorie = group.filter((group['Protein'] > 10) & (group['Caloric Value'] < 300))\n",
    "    \n",
    "    return high_protein_and_low_calorie\n",
    "\n",
    "# List of all groups (assuming you have already read them)\n",
    "groups = [group1, group2, group3, group4, group5]\n",
    "\n",
    "# Function to process all groups\n",
    "def process_group_data(groups):\n",
    "    combined_result_list = []\n",
    "    \n",
    "    for group in groups:\n",
    "        # Clean each group\n",
    "        group_clean = clean_data(group)\n",
    "        \n",
    "        # Filter foods that are both high-protein and low-calorie\n",
    "        result = filter_high_protein_and_low_calorie(group_clean)\n",
    "        \n",
    "        combined_result_list.append(result)\n",
    "    \n",
    "    return combined_result_list\n",
    "\n",
    "# Process the data for all groups\n",
    "combined_results = process_group_data(groups)\n",
    "\n",
    "# Combine the results from all groups\n",
    "final_combined = combined_results[0]\n",
    "for result in combined_results[1:]:\n",
    "    final_combined = final_combined.unionByName(result, allowMissingColumns=True)\n",
    "\n",
    "# Show the final combined result\n",
    "final_combined.show()\n",
    "final_combined.select(\"food\", \"Caloric Value\", \"Fat\").show(20, truncate=False)\n"
   ]
  },
  {
   "cell_type": "code",
   "execution_count": 0,
   "metadata": {
    "application/vnd.databricks.v1+cell": {
     "cellMetadata": {
      "byteLimit": 2048000,
      "rowLimit": 10000
     },
     "inputWidgets": {},
     "nuid": "26ffdc3e-c415-4930-872c-b55404d5a3a6",
     "showTitle": false,
     "tableResultSettingsMap": {},
     "title": ""
    }
   },
   "outputs": [
    {
     "name": "stdout",
     "output_type": "stream",
     "text": [
      "+--------------------+-------------+-------+\n",
      "|                food|Caloric Value|Protein|\n",
      "+--------------------+-------------+-------+\n",
      "|mozzarella cheese...|        159.0|   35.8|\n",
      "|      chicken spread|         88.0|   10.1|\n",
      "|       beef empanada|        298.0|   10.1|\n",
      "|frijoles with cheese|        225.0|   11.4|\n",
      "|    turkey and gravy|        161.0|   14.1|\n",
      "|           crab cake|        160.0|   11.3|\n",
      "|taco with chicken...|        185.0|   13.0|\n",
      "|     spinach souffle|        230.0|   10.7|\n",
      "|     chili con carne|        271.0|   14.7|\n",
      "|       tamale navajo|        285.0|   11.7|\n",
      "|   pupusas del cerdo|        283.0|   14.0|\n",
      "|         pork tamale|        247.0|   10.4|\n",
      "|taco salad with c...|        193.0|   11.6|\n",
      "|  vegetarian fillets|        247.0|   19.6|\n",
      "|spaghetti with me...|        255.0|   14.3|\n",
      "|pasta with meatba...|        273.0|   10.6|\n",
      "|pasta with sliced...|        227.0|   11.0|\n",
      "|vegetable chicken...|        166.0|   12.3|\n",
      "|       bean ham soup|        198.0|   10.3|\n",
      "|        scotch broth|        197.0|   12.1|\n",
      "+--------------------+-------------+-------+\n",
      "only showing top 20 rows\n",
      "\n"
     ]
    }
   ],
   "source": [
    "final_combined.select(\"food\", \"Caloric Value\", \"Protein\").show()"
   ]
  },
  {
   "cell_type": "code",
   "execution_count": 0,
   "metadata": {
    "application/vnd.databricks.v1+cell": {
     "cellMetadata": {
      "byteLimit": 2048000,
      "rowLimit": 10000
     },
     "inputWidgets": {},
     "nuid": "f4aef04c-34ba-4214-b18c-26183099176d",
     "showTitle": false,
     "tableResultSettingsMap": {},
     "title": ""
    }
   },
   "outputs": [
    {
     "name": "stdout",
     "output_type": "stream",
     "text": [
      "The number of rows in the final combined DataFrame is: 280\n"
     ]
    }
   ],
   "source": [
    "# Get the number of rows in the final_combined DataFrame\n",
    "num_rows = final_combined.count()\n",
    "\n",
    "# Display the result\n",
    "print(f\"The number of rows in the final combined DataFrame is: {num_rows}\")\n"
   ]
  },
  {
   "cell_type": "code",
   "execution_count": 0,
   "metadata": {
    "application/vnd.databricks.v1+cell": {
     "cellMetadata": {
      "byteLimit": 2048000,
      "rowLimit": 10000
     },
     "inputWidgets": {},
     "nuid": "43a8e49e-cb2f-467d-802b-cbf9e7bef5aa",
     "showTitle": false,
     "tableResultSettingsMap": {},
     "title": ""
    }
   },
   "outputs": [
    {
     "name": "stdout",
     "output_type": "stream",
     "text": [
      "+------------------------------------------------+-------------+-------+\n",
      "|food                                            |Caloric Value|Protein|\n",
      "+------------------------------------------------+-------------+-------+\n",
      "|mozzarella cheese fat free                      |159.0        |35.8   |\n",
      "|chicken spread                                  |88.0         |10.1   |\n",
      "|beef empanada                                   |298.0        |10.1   |\n",
      "|frijoles with cheese                            |225.0        |11.4   |\n",
      "|turkey and gravy                                |161.0        |14.1   |\n",
      "|crab cake                                       |160.0        |11.3   |\n",
      "|taco with chicken cheese lettuce                |185.0        |13.0   |\n",
      "|spinach souffle                                 |230.0        |10.7   |\n",
      "|chili con carne                                 |271.0        |14.7   |\n",
      "|tamale navajo                                   |285.0        |11.7   |\n",
      "|pupusas del cerdo                               |283.0        |14.0   |\n",
      "|pork tamale                                     |247.0        |10.4   |\n",
      "|taco salad with chili con carne                 |193.0        |11.6   |\n",
      "|vegetarian fillets                              |247.0        |19.6   |\n",
      "|spaghetti with meat sauce                       |255.0        |14.3   |\n",
      "|pasta with meatballs in tomato sauce            |273.0        |10.6   |\n",
      "|pasta with sliced franks in tomato sauce        |227.0        |11.0   |\n",
      "|vegetable chicken soup                          |166.0        |12.3   |\n",
      "|bean ham soup                                   |198.0        |10.3   |\n",
      "|scotch broth                                    |197.0        |12.1   |\n",
      "|chili with beans canned                         |287.0        |14.6   |\n",
      "|black bean soup                                 |234.0        |12.4   |\n",
      "|split pea soup with ham bacon                   |189.0        |11.6   |\n",
      "|chicken broth soup                              |78.0         |11.1   |\n",
      "|chicken dumplings soup                          |235.0        |13.6   |\n",
      "|gazpacho soup                                   |70.0         |10.7   |\n",
      "|beef mushroom soup                              |186.0        |14.0   |\n",
      "|chicken rice soup                               |127.0        |12.3   |\n",
      "|chicken soup                                    |174.0        |12.4   |\n",
      "|turkey soup                                     |135.0        |10.2   |\n",
      "|chili without beans canned                      |283.0        |18.1   |\n",
      "|vegetable beef soup                             |128.0        |18.1   |\n",
      "|crab soup                                       |95.0         |10.4   |\n",
      "|tripe soup                                      |148.0        |17.2   |\n",
      "|crispy chicken drumstick kentucky fried chicken |70.0         |10.6   |\n",
      "|chicken crispy drumsticks kentucky fried chicken|156.0        |11.8   |\n",
      "|hotdog with chili                               |296.0        |13.5   |\n",
      "|crispy chicken wing kentucky fried chicken      |104.0        |12.6   |\n",
      "|crispy chicken breast kentucky fried chicken    |214.0        |38.2   |\n",
      "|crispy chicken thigh kentucky fried chicken     |163.0        |20.4   |\n",
      "|egg mcmuffin mcdonalds                          |287.0        |17.2   |\n",
      "|veggie burger                                   |124.0        |11.0   |\n",
      "|cheeseburger                                    |292.0        |15.0   |\n",
      "|hamburger burger king                           |258.0        |14.7   |\n",
      "|hamburger                                       |255.0        |12.9   |\n",
      "|hamburger mcdonalds                             |251.0        |12.3   |\n",
      "|pepperoni pizza pizza hut                       |269.0        |12.3   |\n",
      "|cheese pizza pizza hut                          |260.0        |11.5   |\n",
      "|cheese pizza                                    |285.0        |12.2   |\n",
      "|cheese pizza dominos                            |278.0        |11.7   |\n",
      "|sucker raw                                      |146.0        |26.6   |\n",
      "|haddock cooked                                  |135.0        |30.0   |\n",
      "|burbot cooked                                   |104.0        |22.3   |\n",
      "|whitefish cooked                                |265.0        |37.7   |\n",
      "|walleye pike raw                                |148.0        |30.4   |\n",
      "|carp cooked                                     |275.0        |38.9   |\n",
      "|wolffish cooked                                 |293.0        |53.4   |\n",
      "|snapper cooked                                  |218.0        |44.7   |\n",
      "|herring raw                                     |291.0        |33.0   |\n",
      "|cod raw                                         |189.0        |41.1   |\n",
      "|tilapia raw                                     |111.0        |23.3   |\n",
      "|whiting cooked                                  |84.0         |16.9   |\n",
      "|trout cooked                                    |118.0        |16.5   |\n",
      "|swordfish raw                                   |196.0        |26.7   |\n",
      "|rainbow trout cooked                            |119.0        |16.9   |\n",
      "|mullet raw                                      |139.0        |23.0   |\n",
      "|lingcod raw                                     |213.0        |44.2   |\n",
      "|cisco raw                                       |77.0         |15.0   |\n",
      "|florida pompano cooked                          |186.0        |20.8   |\n",
      "|snapper raw                                     |218.0        |44.7   |\n",
      "|haddock raw                                     |143.0        |31.5   |\n",
      "|cod cooked                                      |189.0        |41.1   |\n",
      "|seatrout raw                                    |248.0        |39.8   |\n",
      "|flounder raw                                    |114.0        |20.2   |\n",
      "|spot cooked                                     |79.0         |11.9   |\n",
      "|walleye pike cooked                             |148.0        |30.4   |\n",
      "|perch raw                                       |55.0         |11.6   |\n",
      "|mackerel cooked                                 |231.0        |21.0   |\n",
      "|tilapia cooked                                  |111.0        |22.8   |\n",
      "|drum raw                                        |236.0        |34.7   |\n",
      "|atlantic croaker fried                          |192.0        |15.8   |\n",
      "|wolffish raw                                    |294.0        |53.6   |\n",
      "|bluefin tuna cooked                             |276.0        |44.9   |\n",
      "|scup cooked                                     |68.0         |12.1   |\n",
      "|herring cooked                                  |290.0        |32.9   |\n",
      "|bluefish raw                                    |186.0        |30.1   |\n",
      "|sheepshead cooked                               |234.0        |48.4   |\n",
      "|bass cooked                                     |91.0         |15.0   |\n",
      "|pout cooked                                     |279.0        |58.4   |\n",
      "|rockfish raw                                    |172.0        |35.1   |\n",
      "|scup raw                                        |174.0        |31.3   |\n",
      "|coho salmon cooked                              |255.0        |34.7   |\n",
      "|sea bass raw                                    |125.0        |23.8   |\n",
      "|whitefish raw                                   |265.0        |37.8   |\n",
      "|mullet cooked                                   |140.0        |23.1   |\n",
      "|sea bass cooked                                 |125.0        |23.9   |\n",
      "|sturgeon cooked                                 |184.0        |28.2   |\n",
      "|fish fillet fried                               |211.0        |13.3   |\n",
      "|rainbow trout raw                               |111.0        |15.8   |\n",
      "|pout raw                                        |278.0        |58.6   |\n",
      "|trout raw                                       |117.0        |16.4   |\n",
      "|burbot raw                                      |104.0        |22.4   |\n",
      "|dolphinfish cooked                              |173.0        |37.7   |\n",
      "|dolphinfish raw                                 |173.0        |37.7   |\n",
      "|perch cooked                                    |54.0         |11.4   |\n",
      "|cusk raw                                        |106.0        |23.2   |\n",
      "|carp raw                                        |277.0        |38.9   |\n",
      "|catfish fried                                   |199.0        |15.7   |\n",
      "|bass raw                                        |90.0         |14.9   |\n",
      "|flounder cooked                                 |109.0        |19.4   |\n",
      "|catfish raw                                     |189.0        |24.2   |\n",
      "|coho salmon raw                                 |254.0        |33.8   |\n",
      "|ling cooked                                     |168.0        |36.8   |\n",
      "|catfish cooked                                  |206.0        |26.4   |\n",
      "|whiting raw                                     |83.0         |16.8   |\n",
      "|mackerel raw                                    |230.0        |20.8   |\n",
      "|cusk cooked                                     |106.0        |23.1   |\n",
      "|atlantic croaker raw                            |82.0         |14.0   |\n",
      "|sucker cooked                                   |148.0        |26.6   |\n",
      "|spot raw                                        |79.0         |11.8   |\n",
      "|drum cooked                                     |236.0        |34.6   |\n",
      "|bluefish cooked                                 |186.0        |30.1   |\n",
      "|grouper cooked                                  |238.0        |50.2   |\n",
      "|sheepshead raw                                  |257.0        |48.1   |\n",
      "|grouper raw                                     |238.0        |50.2   |\n",
      "|ling raw                                        |168.0        |36.7   |\n",
      "|florida pompano raw                             |184.0        |20.7   |\n",
      "|rockfish cooked                                 |162.0        |33.1   |\n",
      "|seatrout cooked                                 |247.0        |39.9   |\n",
      "|swordfish cooked                                |182.0        |24.9   |\n",
      "|sardines in tomato sauce canned                 |165.0        |18.6   |\n",
      "|tuna canned                                     |102.0        |18.9   |\n",
      "|eastern oyster canned                           |110.0        |11.4   |\n",
      "|shrimp canned                                   |128.0        |26.1   |\n",
      "|alaska king crab raw                            |144.0        |31.5   |\n",
      "|alaska king crab cooked                         |130.0        |25.9   |\n",
      "|squid fried                                     |140.0        |14.4   |\n",
      "|abalone                                         |89.0         |14.5   |\n",
      "|whelk cooked                                    |78.0         |13.5   |\n",
      "|spiny lobster cooked                            |233.0        |43.0   |\n",
      "|blue mussels raw                                |129.0        |17.9   |\n",
      "|queen crab cooked                               |98.0         |20.2   |\n",
      "|dungeness crab cooked                           |140.0        |28.3   |\n",
      "|dungeness crab raw                              |140.0        |28.4   |\n",
      "|blue crab cooked                                |71.0         |15.2   |\n",
      "|conch baked                                     |165.0        |33.4   |\n",
      "|lobster raw                                     |116.0        |24.8   |\n",
      "|spiny lobster raw                               |234.0        |43.1   |\n",
      "|clams canned                                    |227.0        |38.8   |\n",
      "|lobster cooked                                  |134.0        |28.5   |\n",
      "|clams raw                                       |195.0        |33.3   |\n",
      "|octopus cooked                                  |139.0        |25.3   |\n",
      "|chinook salmon smoked                           |159.0        |24.9   |\n",
      "|whitefish smoked                                |147.0        |31.8   |\n",
      "|eggnog                                          |224.0        |11.6   |\n",
      "|egg substitute                                  |115.0        |24.0   |\n",
      "|egg substitute powder                           |126.0        |15.7   |\n",
      "|safflower seed meal                             |97.0         |10.1   |\n",
      "|cottonseed flour low fat                        |94.0         |14.1   |\n",
      "|sesame flour low fat                            |94.0         |14.2   |\n",
      "|egg custard                                     |293.0        |14.2   |\n",
      "|kamut cooked                                    |251.0        |11.1   |\n",
      "|spelt cooked                                    |246.0        |10.7   |\n",
      "|dill weed dried                                 |253.0        |20.0   |\n",
      "|fava beans cooked                               |187.0        |12.9   |\n",
      "|yellow beans cooked                             |255.0        |16.2   |\n",
      "|mung beans cooked                               |212.0        |14.2   |\n",
      "|white beans canned                              |299.0        |19.0   |\n",
      "|pink beans cooked                               |252.0        |15.3   |\n",
      "|edamame cooked                                  |189.0        |18.5   |\n",
      "|hyacinth beans cooked                           |227.0        |15.8   |\n",
      "|cowpeas canned                                  |185.0        |11.4   |\n",
      "|pinto beans cooked                              |245.0        |15.4   |\n",
      "|winged beans cooked                             |253.0        |18.3   |\n",
      "|lima beans canned                               |190.0        |11.9   |\n",
      "|navy beans canned                               |296.0        |19.7   |\n",
      "|black turtle beans cooked                       |241.0        |15.1   |\n",
      "|white beans cooked                              |249.0        |17.4   |\n",
      "|cranberry beans cooked                          |241.0        |16.5   |\n",
      "|lentils cooked                                  |230.0        |17.9   |\n",
      "|baked beans canned                              |239.0        |12.1   |\n",
      "|cranberry beans canned                          |216.0        |14.4   |\n",
      "|black beans cooked                              |227.0        |15.2   |\n",
      "|lima beans cooked                               |216.0        |14.7   |\n",
      "|fava beans canned                               |182.0        |14.0   |\n",
      "|pigeon peas cooked                              |203.0        |11.4   |\n",
      "|navy beans cooked                               |255.0        |15.0   |\n",
      "|mothbeans cooked                                |207.0        |13.8   |\n",
      "|french beans cooked                             |228.0        |12.5   |\n",
      "|adzuki beans cooked                             |294.0        |17.3   |\n",
      "|catjang cowpeas cooked                          |200.0        |13.9   |\n",
      "|baby lima beans cooked                          |189.0        |12.0   |\n",
      "|pinto beans canned                              |197.0        |11.0   |\n",
      "|chickpeas cooked                                |269.0        |14.5   |\n",
      "|mungo beans cooked                              |189.0        |13.6   |\n",
      "|yardlong beans cooked                           |202.0        |14.2   |\n",
      "|meat extender                                   |275.0        |33.5   |\n",
      "|lamb loin cooked                                |202.0        |16.1   |\n",
      "|beef rib roasted                                |238.0        |15.4   |\n",
      "|mock tender steak raw                           |244.0        |42.2   |\n",
      "|mock tender steak cooked                        |137.0        |21.9   |\n",
      "|beef top blade cooked                           |184.0        |21.9   |\n",
      "|beef shoulder steak grilled                     |155.0        |24.0   |\n",
      "|porterhouse steak cooked                        |235.0        |20.4   |\n",
      "|pastrami beef                                   |104.0        |15.5   |\n",
      "|lebanon bologna                                 |98.0         |10.8   |\n",
      "|ground emu cooked                               |178.0        |31.0   |\n",
      "|ostrich leg raw                                 |94.0         |19.0   |\n",
      "|ostrich strip raw                               |108.0        |20.1   |\n",
      "|ostrich tenderloin raw                          |105.0        |18.8   |\n",
      "|ground emu raw                                  |157.0        |26.6   |\n",
      "|ground ostrich raw                              |180.0        |22.0   |\n",
      "|ostrich tip cooked                              |123.0        |24.2   |\n",
      "|caribou cooked                                  |210.0        |38.0   |\n",
      "|ground ostrich cooked                           |163.0        |24.3   |\n",
      "|ostrich leg cooked                              |120.0        |24.7   |\n",
      "|ostrich top loin cooked                         |132.0        |23.9   |\n",
      "|ostrich strip cooked                            |139.0        |25.0   |\n",
      "|ostrich tip raw                                 |97.0         |18.6   |\n",
      "|ostrich round raw                               |99.0         |18.7   |\n",
      "|ground bison raw                                |124.0        |17.2   |\n",
      "|ostrich fan raw                                 |99.0         |18.5   |\n",
      "|ostrich top loin raw                            |101.0        |18.4   |\n",
      "|turkey liver cooked                             |100.0        |14.3   |\n",
      "|chicken gizzard cooked                          |223.0        |44.1   |\n",
      "|chicken heart cooked                            |268.0        |38.3   |\n",
      "|chicken liver cooked                            |76.0         |11.3   |\n",
      "|turkey gizzard cooked                           |70.0         |11.9   |\n",
      "|beef liver cooked                               |130.0        |19.8   |\n",
      "|goose liver                                     |125.0        |15.4   |\n",
      "|pork kidneys cooked                             |211.0        |35.6   |\n",
      "|pork heart cooked                               |215.0        |34.2   |\n",
      "|turkey giblets cooked                           |164.0        |25.1   |\n",
      "|veal liver cooked                               |154.0        |22.7   |\n",
      "|pork lungs cooked                               |297.0        |49.8   |\n",
      "|pork meat cooked                                |283.0        |14.1   |\n",
      "|pork sirloin chops cooked                       |140.0        |23.3   |\n",
      "|pork country style ribs raw                     |242.0        |24.8   |\n",
      "|pork leg cap steak raw                          |284.0        |50.0   |\n",
      "|pork blade chops cooked                         |265.0        |32.4   |\n",
      "|pork top loin chops raw                         |287.0        |39.9   |\n",
      "|ham steak                                       |70.0         |11.1   |\n",
      "|pork top loin chops cooked                      |270.0        |39.4   |\n",
      "|pork centre rib roasts raw                      |275.0        |44.0   |\n",
      "|pork loin raw                                   |232.0        |23.1   |\n",
      "|ham raw                                         |266.0        |23.8   |\n",
      "|pork skin                                       |154.0        |17.3   |\n",
      "|pork country style ribs cooked                  |235.0        |22.8   |\n",
      "|pork tenderloin cooked                          |153.0        |22.7   |\n",
      "|pork loin cooked                                |213.0        |24.2   |\n",
      "|pork ears cooked                                |184.0        |17.7   |\n",
      "|ground turkey raw                               |169.0        |22.4   |\n",
      "|turkey roast roasted                            |209.0        |28.8   |\n",
      "|turkey taco meat cooked                         |271.0        |30.7   |\n",
      "|chicken drumstick fried                         |193.0        |15.8   |\n",
      "|chicken wing roasted                            |216.0        |20.2   |\n",
      "|chicken breast cooked                           |114.0        |17.3   |\n",
      "|chicken drumstick raw                           |211.0        |23.4   |\n",
      "|turkey meat roasted                             |284.0        |42.8   |\n",
      "|chicken breast raw                              |299.0        |36.3   |\n",
      "|profeel proteiinirahka valio                    |140.0        |175.0  |\n",
      "|cottage cheese low fat                          |163.0        |28.0   |\n",
      "|cottage cheese nonfat                           |104.0        |15.0   |\n",
      "|vanilla yogurt low fat                          |208.0        |12.1   |\n",
      "|yogurt low fat                                  |154.0        |12.9   |\n",
      "|greek yogurt                                    |100.0        |17.3   |\n",
      "|smoothie high protein creamy chocolate slimfast |110.0        |12.0   |\n",
      "|lupins cooked                                   |193.0        |25.8   |\n",
      "|green soybean cooked                            |127.0        |11.1   |\n",
      "|soy proteins isolate                            |96.0         |22.8   |\n",
      "|meatless meatloaf                               |110.0        |11.8   |\n",
      "|soybean cooked                                  |296.0        |28.6   |\n",
      "|tofu raw                                        |188.0        |20.0   |\n",
      "|soy proteins concentrate                        |93.0         |18.0   |\n",
      "|meatless meatballs                              |284.0        |30.2   |\n",
      "|natto                                           |169.0        |14.2   |\n",
      "|split peas cooked                               |227.0        |16.3   |\n",
      "|tomato paste canned                             |215.0        |11.3   |\n",
      "|caesar salad with grilled chicken mcdonalds     |201.0        |29.1   |\n",
      "|vegetable salad with chicken                    |70.0         |11.6   |\n",
      "+------------------------------------------------+-------------+-------+\n",
      "\n"
     ]
    }
   ],
   "source": [
    "# Display all rows in the final_combined DataFrame\n",
    "final_combined.select(\"food\", \"Caloric Value\", \"Protein\").show(truncate=False, n=num_rows)\n"
   ]
  },
  {
   "cell_type": "code",
   "execution_count": 0,
   "metadata": {
    "application/vnd.databricks.v1+cell": {
     "cellMetadata": {
      "byteLimit": 2048000,
      "rowLimit": 10000
     },
     "inputWidgets": {},
     "nuid": "9dd7a6f6-9d6e-4f1c-bd78-30c15a2af9d6",
     "showTitle": false,
     "tableResultSettingsMap": {},
     "title": ""
    }
   },
   "outputs": [],
   "source": [
    "from pyspark.sql.functions import round\n",
    "\n",
    "final_combined = final_combined.withColumn(\"Protein %\", round((F.col(\"Protein\") / (F.col(\"Protein\") + F.col(\"Fat\") + F.col(\"Carbohydrates\"))) * 100, 2))\n",
    "final_combined = final_combined.withColumn(\"Fat %\", round((F.col(\"Fat\") / (F.col(\"Protein\") + F.col(\"Fat\") + F.col(\"Carbohydrates\"))) * 100, 2))\n",
    "final_combined = final_combined.withColumn(\"Carbohydrates %\", round((F.col(\"Carbohydrates\") / (F.col(\"Protein\") + F.col(\"Fat\") + F.col(\"Carbohydrates\"))) * 100, 2))\n",
    "final_combined = final_combined.withColumn(\"Calorie Density\", round(F.col(\"Caloric Value\") / 100, 2))\n",
    "final_combined = final_combined.withColumn(\"Health Score\", round(\n",
    "    (F.col(\"Protein\") * 2) + (F.col(\"Dietary Fiber\") * 1.5) - (F.col(\"Fat\") * 1) - (F.col(\"Sugars\") * 2), 2\n",
    "))\n",
    "\n"
   ]
  },
  {
   "cell_type": "code",
   "execution_count": 0,
   "metadata": {
    "application/vnd.databricks.v1+cell": {
     "cellMetadata": {
      "byteLimit": 2048000,
      "rowLimit": 10000
     },
     "inputWidgets": {},
     "nuid": "a8ffad85-cefa-4294-a526-591b0119b55f",
     "showTitle": false,
     "tableResultSettingsMap": {},
     "title": ""
    }
   },
   "outputs": [],
   "source": [
    "final_combined = final_combined.withColumn(\n",
    "    \"Food Category\", \n",
    "    F.when(F.col(\"Protein %\") > 40, \"High Protein\")\n",
    "     .when(F.col(\"Carbohydrates %\") > 50, \"High Carb\")\n",
    "     .when(F.col(\"Fat %\") > 50, \"High Fat\")\n",
    "     .otherwise(\"Balanced\")\n",
    ")\n"
   ]
  },
  {
   "cell_type": "code",
   "execution_count": 0,
   "metadata": {
    "application/vnd.databricks.v1+cell": {
     "cellMetadata": {
      "byteLimit": 2048000,
      "rowLimit": 10000
     },
     "inputWidgets": {},
     "nuid": "2151bfdc-70fa-4ae1-aed9-abd95f817782",
     "showTitle": false,
     "tableResultSettingsMap": {},
     "title": ""
    }
   },
   "outputs": [
    {
     "name": "stdout",
     "output_type": "stream",
     "text": [
      "+----------------------------------------+---------+-----+---------------+---------------+------------+-------------+-----------------+\n",
      "|food                                    |Protein %|Fat %|Carbohydrates %|Calorie Density|Health Score|Food Category|Nutrition Density|\n",
      "+----------------------------------------+---------+-----+---------------+---------------+------------+-------------+-----------------+\n",
      "|mozzarella cheese fat free              |89.95    |0.0  |10.05          |1.59           |71.2        |High Protein |1128.2           |\n",
      "|chicken spread                          |45.5     |44.14|10.36          |0.88           |10.1        |High Protein |31.972           |\n",
      "|beef empanada                           |18.63    |30.07|51.29          |2.98           |3.4         |High Carb    |76.2             |\n",
      "|frijoles with cheese                    |23.8     |16.28|59.92          |2.25           |15.0        |High Carb    |240.305          |\n",
      "|turkey and gravy                        |44.76    |20.0 |35.24          |1.61           |21.9        |High Protein |67.374           |\n",
      "|crab cake                               |42.16    |38.81|19.03          |1.6            |12.5        |High Protein |230.596          |\n",
      "|taco with chicken cheese lettuce        |33.77    |16.1 |50.13          |1.85           |19.0        |High Carb    |161.153          |\n",
      "|spinach souffle                         |29.48    |48.48|22.04          |2.3            |0.3         |Balanced     |273.4            |\n",
      "|chili con carne                         |25.97    |15.55|58.48          |2.71           |23.65       |High Carb    |66.245           |\n",
      "|tamale navajo                           |20.6     |20.07|59.33          |2.85           |17.1        |High Carb    |122.0            |\n",
      "|pupusas del cerdo                       |25.55    |23.18|51.28          |2.83           |16.5        |High Carb    |119.087          |\n",
      "|pork tamale                             |22.81    |28.07|49.12          |2.47           |11.7        |Balanced     |156.766          |\n",
      "|taco salad with chili con carne         |30.45    |23.1 |46.46          |1.93           |14.4        |Balanced     |205.9            |\n",
      "|vegetarian fillets                      |46.01    |35.92|18.08          |2.47           |30.3        |High Protein |130.3            |\n",
      "|spaghetti with meat sauce               |23.71    |4.81 |71.48          |2.55           |18.55       |High Carb    |135.1            |\n",
      "|pasta with meatballs in tomato sauce    |20.42    |25.05|54.53          |2.73           |4.15        |High Carb    |100.474          |\n",
      "|pasta with sliced franks in tomato sauce|22.45    |12.24|65.31          |2.27           |6.0         |High Carb    |216.154          |\n",
      "|vegetable chicken soup                  |32.2     |12.57|55.24          |1.66           |14.5        |High Carb    |72.737           |\n",
      "|bean ham soup                           |22.25    |5.4  |72.35          |1.98           |17.2        |High Carb    |154.4            |\n",
      "|scotch broth                            |29.16    |15.42|55.42          |1.97           |22.3        |High Carb    |84.4             |\n",
      "+----------------------------------------+---------+-----+---------------+---------------+------------+-------------+-----------------+\n",
      "only showing top 20 rows\n",
      "\n"
     ]
    }
   ],
   "source": [
    "final_combined.select(\"food\", \"Protein %\", \"Fat %\", \"Carbohydrates %\",\"Calorie Density\",\"Health Score\",\"Food Category\", \"Nutrition Density\" ).show(20, truncate=False)"
   ]
  },
  {
   "cell_type": "code",
   "execution_count": 0,
   "metadata": {
    "application/vnd.databricks.v1+cell": {
     "cellMetadata": {
      "byteLimit": 2048000,
      "rowLimit": 10000
     },
     "inputWidgets": {},
     "nuid": "bec05f71-40a3-4a60-a687-f1aa6c877e01",
     "showTitle": false,
     "tableResultSettingsMap": {},
     "title": ""
    }
   },
   "outputs": [],
   "source": [
    "final_combined.coalesce(1).write.mode(\"overwrite\").option(\"header\", 'true').csv(\"/mnt/nutritiondata/transformed-data/\")\n"
   ]
  },
  {
   "cell_type": "code",
   "execution_count": 0,
   "metadata": {
    "application/vnd.databricks.v1+cell": {
     "cellMetadata": {
      "byteLimit": 2048000,
      "rowLimit": 10000
     },
     "inputWidgets": {},
     "nuid": "4fbc2e68-8130-4f4b-b420-4b37a643b029",
     "showTitle": false,
     "tableResultSettingsMap": {},
     "title": ""
    }
   },
   "outputs": [
    {
     "data": {
      "text/html": [
       "<style scoped>\n",
       "  .table-result-container {\n",
       "    max-height: 300px;\n",
       "    overflow: auto;\n",
       "  }\n",
       "  table, th, td {\n",
       "    border: 1px solid black;\n",
       "    border-collapse: collapse;\n",
       "  }\n",
       "  th, td {\n",
       "    padding: 5px;\n",
       "  }\n",
       "  th {\n",
       "    text-align: left;\n",
       "  }\n",
       "</style><div class='table-result-container'><table class='table-result'><thead style='background-color: white'><tr><th>path</th><th>name</th><th>size</th><th>modificationTime</th></tr></thead><tbody><tr><td>dbfs:/mnt/nutritiondata/transformed-data/_SUCCESS</td><td>_SUCCESS</td><td>0</td><td>1741067976000</td></tr><tr><td>dbfs:/mnt/nutritiondata/transformed-data/_committed_3956674624863665394</td><td>_committed_3956674624863665394</td><td>113</td><td>1741067975000</td></tr><tr><td>dbfs:/mnt/nutritiondata/transformed-data/_started_3956674624863665394</td><td>_started_3956674624863665394</td><td>0</td><td>1741067975000</td></tr><tr><td>dbfs:/mnt/nutritiondata/transformed-data/part-00000-tid-3956674624863665394-99e42b2f-375f-493b-8e5a-d4c49b1c60e9-103-1-c000.csv</td><td>part-00000-tid-3956674624863665394-99e42b2f-375f-493b-8e5a-d4c49b1c60e9-103-1-c000.csv</td><td>61703</td><td>1741067975000</td></tr></tbody></table></div>"
      ]
     },
     "metadata": {
      "application/vnd.databricks.v1+output": {
       "addedWidgets": {},
       "aggData": [],
       "aggError": "",
       "aggOverflow": false,
       "aggSchema": [],
       "aggSeriesLimitReached": false,
       "aggType": "",
       "arguments": {},
       "columnCustomDisplayInfos": {},
       "data": [
        [
         "dbfs:/mnt/nutritiondata/transformed-data/_SUCCESS",
         "_SUCCESS",
         0,
         1741067976000
        ],
        [
         "dbfs:/mnt/nutritiondata/transformed-data/_committed_3956674624863665394",
         "_committed_3956674624863665394",
         113,
         1741067975000
        ],
        [
         "dbfs:/mnt/nutritiondata/transformed-data/_started_3956674624863665394",
         "_started_3956674624863665394",
         0,
         1741067975000
        ],
        [
         "dbfs:/mnt/nutritiondata/transformed-data/part-00000-tid-3956674624863665394-99e42b2f-375f-493b-8e5a-d4c49b1c60e9-103-1-c000.csv",
         "part-00000-tid-3956674624863665394-99e42b2f-375f-493b-8e5a-d4c49b1c60e9-103-1-c000.csv",
         61703,
         1741067975000
        ]
       ],
       "datasetInfos": [],
       "dbfsResultPath": null,
       "isJsonSchema": true,
       "metadata": {},
       "overflow": false,
       "plotOptions": {
        "customPlotOptions": {},
        "displayType": "table",
        "pivotAggregation": null,
        "pivotColumns": null,
        "xColumns": null,
        "yColumns": null
       },
       "removedWidgets": [],
       "schema": [
        {
         "metadata": "{}",
         "name": "path",
         "type": "\"string\""
        },
        {
         "metadata": "{}",
         "name": "name",
         "type": "\"string\""
        },
        {
         "metadata": "{}",
         "name": "size",
         "type": "\"long\""
        },
        {
         "metadata": "{}",
         "name": "modificationTime",
         "type": "\"long\""
        }
       ],
       "type": "table"
      }
     },
     "output_type": "display_data"
    }
   ],
   "source": [
    "# Display the list of raw data files in the specified folder to review the available datasets\n",
    "display(dbutils.fs.ls(\"/mnt/nutritiondata/transformed-data/\"))"
   ]
  },
  {
   "cell_type": "code",
   "execution_count": 0,
   "metadata": {
    "application/vnd.databricks.v1+cell": {
     "cellMetadata": {
      "byteLimit": 2048000,
      "rowLimit": 10000
     },
     "inputWidgets": {},
     "nuid": "705d3fab-6ecf-42bb-ad62-9fffdf82866a",
     "showTitle": false,
     "tableResultSettingsMap": {},
     "title": ""
    }
   },
   "outputs": [
    {
     "name": "stdout",
     "output_type": "stream",
     "text": [
      "Out[68]: True"
     ]
    }
   ],
   "source": [
    "# Rename the file in DBFS\n",
    "dbutils.fs.mv(\"/mnt/nutritiondata/transformed-data/part-00000-tid-3956674624863665394-99e42b2f-375f-493b-8e5a-d4c49b1c60e9-103-1-c000.csv\",\n",
    "               \"/mnt/nutritiondata/transformed-data/my_transformed_data.csv\")\n"
   ]
  },
  {
   "cell_type": "code",
   "execution_count": 0,
   "metadata": {
    "application/vnd.databricks.v1+cell": {
     "cellMetadata": {
      "byteLimit": 2048000,
      "rowLimit": 10000
     },
     "inputWidgets": {},
     "nuid": "0833e95b-dc12-4271-8066-56d2c9bf6ed4",
     "showTitle": false,
     "tableResultSettingsMap": {},
     "title": ""
    }
   },
   "outputs": [],
   "source": [
    "# Round the columns as required\n",
    "final_combined_rounded = final_combined.withColumn(\"Caloric Value\", F.round(\"Caloric Value\", 2)) \\\n",
    "                                       .withColumn(\"Protein\", F.round(\"Protein\", 2)) \\\n",
    "                                       .withColumn(\"Fat\", F.round(\"Fat\", 2))\n",
    "\n",
    "# Save the rounded DataFrame as my_transformed_data.csv\n",
    "final_combined_rounded.repartition(1).write.mode(\"overwrite\").option(\"header\", \"true\").csv(\"/mnt/nutritiondata/transformed-data/my_transformed_data.csv\")\n"
   ]
  }
 ],
 "metadata": {
  "application/vnd.databricks.v1+notebook": {
   "computePreferences": null,
   "dashboards": [],
   "environmentMetadata": {
    "base_environment": "",
    "environment_version": "2"
   },
   "language": "python",
   "notebookMetadata": {
    "mostRecentlyExecutedCommandWithImplicitDF": {
     "commandId": 4709599574724482,
     "dataframes": [
      "_sqldf"
     ]
    },
    "pythonIndentUnit": 4
   },
   "notebookName": "Food_Data_Exploration",
   "widgets": {}
  },
  "language_info": {
   "name": "python"
  }
 },
 "nbformat": 4,
 "nbformat_minor": 0
}
